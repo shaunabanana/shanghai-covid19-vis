{
 "cells": [
  {
   "cell_type": "markdown",
   "id": "1371e7f3",
   "metadata": {},
   "source": [
    "# Visualization of current COVID-19 trend in Shanghai\n",
    "\n",
    "The visualization method is based on MinutePhysics' video [here](https://www.youtube.com/watch?v=54XLXg4fYsc).\n",
    "\n",
    "Data depends on the work of [@kekincai](https://github.com/kekincai), downloaded from the deployed app available [here](https://kapaul.shinyapps.io/shanghai_covid19/)."
   ]
  },
  {
   "cell_type": "code",
   "execution_count": 1,
   "id": "cbda5031",
   "metadata": {},
   "outputs": [],
   "source": [
    "import pandas as pd"
   ]
  },
  {
   "cell_type": "code",
   "execution_count": 2,
   "id": "21711998",
   "metadata": {},
   "outputs": [
    {
     "data": {
      "text/html": [
       "<div>\n",
       "<style scoped>\n",
       "    .dataframe tbody tr th:only-of-type {\n",
       "        vertical-align: middle;\n",
       "    }\n",
       "\n",
       "    .dataframe tbody tr th {\n",
       "        vertical-align: top;\n",
       "    }\n",
       "\n",
       "    .dataframe thead th {\n",
       "        text-align: right;\n",
       "    }\n",
       "</style>\n",
       "<table border=\"1\" class=\"dataframe\">\n",
       "  <thead>\n",
       "    <tr style=\"text-align: right;\">\n",
       "      <th></th>\n",
       "      <th>Unnamed: 0</th>\n",
       "      <th>date</th>\n",
       "      <th>新增本土新冠肺炎确诊病例</th>\n",
       "      <th>新增本土无症状感染者</th>\n",
       "      <th>新增境外输入性新冠肺炎确诊病例</th>\n",
       "      <th>新增境外输入性无症状感染者</th>\n",
       "      <th>治愈出院</th>\n",
       "      <th>解除医学观察无症状感染者</th>\n",
       "      <th>新增本土确诊含无症状</th>\n",
       "      <th>无症状闭环隔离管控人数</th>\n",
       "      <th>无症状风险人群筛查人数</th>\n",
       "      <th>非管控区域病例比例</th>\n",
       "    </tr>\n",
       "  </thead>\n",
       "  <tbody>\n",
       "    <tr>\n",
       "      <th>41</th>\n",
       "      <td>23</td>\n",
       "      <td>2022-03-01</td>\n",
       "      <td>1</td>\n",
       "      <td>1</td>\n",
       "      <td>37</td>\n",
       "      <td>17</td>\n",
       "      <td>0</td>\n",
       "      <td>0</td>\n",
       "      <td>2</td>\n",
       "      <td>0</td>\n",
       "      <td>1</td>\n",
       "      <td>100.0</td>\n",
       "    </tr>\n",
       "    <tr>\n",
       "      <th>40</th>\n",
       "      <td>22</td>\n",
       "      <td>2022-03-03</td>\n",
       "      <td>2</td>\n",
       "      <td>14</td>\n",
       "      <td>43</td>\n",
       "      <td>21</td>\n",
       "      <td>0</td>\n",
       "      <td>0</td>\n",
       "      <td>16</td>\n",
       "      <td>0</td>\n",
       "      <td>14</td>\n",
       "      <td>100.0</td>\n",
       "    </tr>\n",
       "    <tr>\n",
       "      <th>39</th>\n",
       "      <td>21</td>\n",
       "      <td>2022-03-04</td>\n",
       "      <td>3</td>\n",
       "      <td>16</td>\n",
       "      <td>24</td>\n",
       "      <td>10</td>\n",
       "      <td>0</td>\n",
       "      <td>0</td>\n",
       "      <td>19</td>\n",
       "      <td>0</td>\n",
       "      <td>16</td>\n",
       "      <td>100.0</td>\n",
       "    </tr>\n",
       "    <tr>\n",
       "      <th>38</th>\n",
       "      <td>20</td>\n",
       "      <td>2022-03-05</td>\n",
       "      <td>0</td>\n",
       "      <td>28</td>\n",
       "      <td>25</td>\n",
       "      <td>10</td>\n",
       "      <td>0</td>\n",
       "      <td>0</td>\n",
       "      <td>28</td>\n",
       "      <td>0</td>\n",
       "      <td>28</td>\n",
       "      <td>100.0</td>\n",
       "    </tr>\n",
       "    <tr>\n",
       "      <th>37</th>\n",
       "      <td>191</td>\n",
       "      <td>2022-03-06</td>\n",
       "      <td>3</td>\n",
       "      <td>45</td>\n",
       "      <td>32</td>\n",
       "      <td>16</td>\n",
       "      <td>0</td>\n",
       "      <td>0</td>\n",
       "      <td>48</td>\n",
       "      <td>0</td>\n",
       "      <td>45</td>\n",
       "      <td>100.0</td>\n",
       "    </tr>\n",
       "  </tbody>\n",
       "</table>\n",
       "</div>"
      ],
      "text/plain": [
       "    Unnamed: 0        date  新增本土新冠肺炎确诊病例  新增本土无症状感染者  新增境外输入性新冠肺炎确诊病例  \\\n",
       "41          23  2022-03-01             1           1               37   \n",
       "40          22  2022-03-03             2          14               43   \n",
       "39          21  2022-03-04             3          16               24   \n",
       "38          20  2022-03-05             0          28               25   \n",
       "37         191  2022-03-06             3          45               32   \n",
       "\n",
       "    新增境外输入性无症状感染者  治愈出院  解除医学观察无症状感染者  新增本土确诊含无症状  无症状闭环隔离管控人数  无症状风险人群筛查人数  \\\n",
       "41             17     0             0           2            0            1   \n",
       "40             21     0             0          16            0           14   \n",
       "39             10     0             0          19            0           16   \n",
       "38             10     0             0          28            0           28   \n",
       "37             16     0             0          48            0           45   \n",
       "\n",
       "    非管控区域病例比例  \n",
       "41      100.0  \n",
       "40      100.0  \n",
       "39      100.0  \n",
       "38      100.0  \n",
       "37      100.0  "
      ]
     },
     "execution_count": 2,
     "metadata": {},
     "output_type": "execute_result"
    }
   ],
   "source": [
    "dataset = pd.read_csv('全体数据一览.csv').drop_duplicates(subset=['date']).sort_values('date')\n",
    "dataset['新增本土确诊含无症状'] = dataset['新增本土新冠肺炎确诊病例'] + dataset['新增本土无症状感染者']\n",
    "dataset.head()"
   ]
  },
  {
   "cell_type": "markdown",
   "id": "963f9ec7",
   "metadata": {},
   "source": [
    "## Calculate our two axes\n",
    "\n",
    "MinutePhysics recommeded using a moving average to counter the random fluctuations in daily new cases, so that's what we do here. We calculate a rolling average with a 3-day window.\n",
    "\n",
    "The new cases are plotted not against **time**, but against **the total number of cases**. So we calculate the cumulated sum as well."
   ]
  },
  {
   "cell_type": "code",
   "execution_count": 11,
   "id": "e01130c6",
   "metadata": {},
   "outputs": [
    {
     "data": {
      "text/plain": [
       "count        36.000000\n",
       "mean      28469.444444\n",
       "std       39593.859964\n",
       "min         113.000000\n",
       "25%         518.250000\n",
       "50%        7628.000000\n",
       "75%       35623.250000\n",
       "max      124326.000000\n",
       "Name: 新增本土确诊含无症状, dtype: float64"
      ]
     },
     "execution_count": 11,
     "metadata": {},
     "output_type": "execute_result"
    }
   ],
   "source": [
    "new_cases = dataset['新增本土确诊含无症状'].rolling(5).sum()\n",
    "new_cases.describe()"
   ]
  },
  {
   "cell_type": "code",
   "execution_count": 12,
   "id": "760446eb",
   "metadata": {},
   "outputs": [
    {
     "data": {
      "text/plain": [
       "count        40.000000\n",
       "mean      44023.875000\n",
       "std       70424.249171\n",
       "min           2.000000\n",
       "25%         519.750000\n",
       "50%        6129.500000\n",
       "75%       52781.500000\n",
       "max      255497.000000\n",
       "Name: 新增本土确诊含无症状, dtype: float64"
      ]
     },
     "execution_count": 12,
     "metadata": {},
     "output_type": "execute_result"
    }
   ],
   "source": [
    "all_cases = dataset['新增本土确诊含无症状'].cumsum()\n",
    "all_cases.describe()"
   ]
  },
  {
   "cell_type": "code",
   "execution_count": 13,
   "id": "1467672c",
   "metadata": {},
   "outputs": [
    {
     "data": {
      "text/html": [
       "<div>\n",
       "<style scoped>\n",
       "    .dataframe tbody tr th:only-of-type {\n",
       "        vertical-align: middle;\n",
       "    }\n",
       "\n",
       "    .dataframe tbody tr th {\n",
       "        vertical-align: top;\n",
       "    }\n",
       "\n",
       "    .dataframe thead th {\n",
       "        text-align: right;\n",
       "    }\n",
       "</style>\n",
       "<table border=\"1\" class=\"dataframe\">\n",
       "  <thead>\n",
       "    <tr style=\"text-align: right;\">\n",
       "      <th></th>\n",
       "      <th>Day</th>\n",
       "      <th>New Cases</th>\n",
       "      <th>All Cases</th>\n",
       "    </tr>\n",
       "  </thead>\n",
       "  <tbody>\n",
       "    <tr>\n",
       "      <th>37</th>\n",
       "      <td>2022-03-06</td>\n",
       "      <td>113.0</td>\n",
       "      <td>113</td>\n",
       "    </tr>\n",
       "    <tr>\n",
       "      <th>36</th>\n",
       "      <td>2022-03-07</td>\n",
       "      <td>166.0</td>\n",
       "      <td>168</td>\n",
       "    </tr>\n",
       "    <tr>\n",
       "      <th>35</th>\n",
       "      <td>2022-03-08</td>\n",
       "      <td>215.0</td>\n",
       "      <td>233</td>\n",
       "    </tr>\n",
       "    <tr>\n",
       "      <th>34</th>\n",
       "      <td>2022-03-09</td>\n",
       "      <td>276.0</td>\n",
       "      <td>313</td>\n",
       "    </tr>\n",
       "    <tr>\n",
       "      <th>33</th>\n",
       "      <td>2022-03-10</td>\n",
       "      <td>323.0</td>\n",
       "      <td>388</td>\n",
       "    </tr>\n",
       "  </tbody>\n",
       "</table>\n",
       "</div>"
      ],
      "text/plain": [
       "           Day  New Cases  All Cases\n",
       "37  2022-03-06      113.0        113\n",
       "36  2022-03-07      166.0        168\n",
       "35  2022-03-08      215.0        233\n",
       "34  2022-03-09      276.0        313\n",
       "33  2022-03-10      323.0        388"
      ]
     },
     "execution_count": 13,
     "metadata": {},
     "output_type": "execute_result"
    }
   ],
   "source": [
    "vis = pd.DataFrame({\n",
    "    'Day': dataset['date'],\n",
    "    'New Cases': new_cases,\n",
    "    'All Cases': all_cases\n",
    "}).dropna()\n",
    "\n",
    "vis.head()"
   ]
  },
  {
   "cell_type": "markdown",
   "id": "7ddcb3b9",
   "metadata": {},
   "source": [
    "## Create the plot!\n",
    "\n",
    "Here we use Plotly's built-in animation feature. Note that, in accordance to MinutePhysics' video, we're using logarithmic scales here for both X and Y axis.\n",
    "\n",
    "I've added in a reference line (blue), as well as the overall trace (red)."
   ]
  },
  {
   "cell_type": "code",
   "execution_count": 31,
   "id": "9c341231",
   "metadata": {},
   "outputs": [
    {
     "data": {
      "application/vnd.plotly.v1+json": {
       "config": {
        "plotlyServerURL": "https://plot.ly"
       },
       "data": [
        {
         "hovertemplate": "Day=2022-03-06<br>All Cases=%{x}<br>New Cases=%{y}<extra></extra>",
         "legendgroup": "",
         "marker": {
          "color": "red",
          "symbol": "circle"
         },
         "mode": "markers",
         "name": "",
         "orientation": "v",
         "showlegend": false,
         "type": "scatter",
         "x": [
          113
         ],
         "xaxis": "x",
         "y": [
          113
         ],
         "yaxis": "y"
        },
        {
         "mode": "markers+lines+text",
         "name": "Shanghai",
         "text": [
          "2022-03-06",
          "2022-03-07",
          "2022-03-08",
          "2022-03-09",
          "2022-03-10",
          "2022-03-11",
          "2022-03-12",
          "2022-03-13",
          "2022-03-14",
          "2022-03-15",
          "2022-03-17",
          "2022-03-19",
          "2022-03-20",
          "2022-03-21",
          "2022-03-22",
          "2022-03-23",
          "2022-03-24",
          "2022-03-25",
          "2022-03-26",
          "2022-03-27",
          "2022-03-28",
          "2022-03-29",
          "2022-03-30",
          "2022-03-31",
          "2022-04-01",
          "2022-04-02",
          "2022-04-03",
          "2022-04-04",
          "2022-04-05",
          "2022-04-06",
          "2022-04-07",
          "2022-04-08",
          "2022-04-09",
          "2022-04-10",
          "2022-04-11",
          "2022-04-12"
         ],
         "textfont": {
          "size": 4
         },
         "textposition": "top left",
         "type": "scatter",
         "x": [
          113,
          168,
          233,
          313,
          388,
          471,
          536,
          597,
          736,
          938,
          1198,
          1707,
          2465,
          3361,
          4342,
          5325,
          6934,
          9203,
          11879,
          15379,
          19856,
          25838,
          31491,
          35993,
          42304,
          50530,
          59536,
          72890,
          89967,
          109949,
          131171,
          154795,
          179738,
          205825,
          229167,
          255497
         ],
         "y": [
          113,
          166,
          215,
          276,
          323,
          358,
          368,
          364,
          423,
          550,
          727,
          1171,
          1868,
          2625,
          3404,
          4127,
          5227,
          6738,
          8518,
          11037,
          14531,
          18904,
          22288,
          24114,
          26925,
          30674,
          33698,
          41399,
          53974,
          67645,
          80641,
          95259,
          106848,
          115858,
          119218,
          124326
         ]
        }
       ],
       "frames": [
        {
         "data": [
          {
           "hovertemplate": "Day=2022-03-06<br>All Cases=%{x}<br>New Cases=%{y}<extra></extra>",
           "legendgroup": "",
           "marker": {
            "color": "red",
            "symbol": "circle"
           },
           "mode": "markers",
           "name": "",
           "orientation": "v",
           "showlegend": false,
           "type": "scatter",
           "x": [
            113
           ],
           "xaxis": "x",
           "y": [
            113
           ],
           "yaxis": "y"
          }
         ],
         "name": "2022-03-06"
        },
        {
         "data": [
          {
           "hovertemplate": "Day=2022-03-07<br>All Cases=%{x}<br>New Cases=%{y}<extra></extra>",
           "legendgroup": "",
           "marker": {
            "color": "red",
            "symbol": "circle"
           },
           "mode": "markers",
           "name": "",
           "orientation": "v",
           "showlegend": false,
           "type": "scatter",
           "x": [
            168
           ],
           "xaxis": "x",
           "y": [
            166
           ],
           "yaxis": "y"
          }
         ],
         "name": "2022-03-07"
        },
        {
         "data": [
          {
           "hovertemplate": "Day=2022-03-08<br>All Cases=%{x}<br>New Cases=%{y}<extra></extra>",
           "legendgroup": "",
           "marker": {
            "color": "red",
            "symbol": "circle"
           },
           "mode": "markers",
           "name": "",
           "orientation": "v",
           "showlegend": false,
           "type": "scatter",
           "x": [
            233
           ],
           "xaxis": "x",
           "y": [
            215
           ],
           "yaxis": "y"
          }
         ],
         "name": "2022-03-08"
        },
        {
         "data": [
          {
           "hovertemplate": "Day=2022-03-09<br>All Cases=%{x}<br>New Cases=%{y}<extra></extra>",
           "legendgroup": "",
           "marker": {
            "color": "red",
            "symbol": "circle"
           },
           "mode": "markers",
           "name": "",
           "orientation": "v",
           "showlegend": false,
           "type": "scatter",
           "x": [
            313
           ],
           "xaxis": "x",
           "y": [
            276
           ],
           "yaxis": "y"
          }
         ],
         "name": "2022-03-09"
        },
        {
         "data": [
          {
           "hovertemplate": "Day=2022-03-10<br>All Cases=%{x}<br>New Cases=%{y}<extra></extra>",
           "legendgroup": "",
           "marker": {
            "color": "red",
            "symbol": "circle"
           },
           "mode": "markers",
           "name": "",
           "orientation": "v",
           "showlegend": false,
           "type": "scatter",
           "x": [
            388
           ],
           "xaxis": "x",
           "y": [
            323
           ],
           "yaxis": "y"
          }
         ],
         "name": "2022-03-10"
        },
        {
         "data": [
          {
           "hovertemplate": "Day=2022-03-11<br>All Cases=%{x}<br>New Cases=%{y}<extra></extra>",
           "legendgroup": "",
           "marker": {
            "color": "red",
            "symbol": "circle"
           },
           "mode": "markers",
           "name": "",
           "orientation": "v",
           "showlegend": false,
           "type": "scatter",
           "x": [
            471
           ],
           "xaxis": "x",
           "y": [
            358
           ],
           "yaxis": "y"
          }
         ],
         "name": "2022-03-11"
        },
        {
         "data": [
          {
           "hovertemplate": "Day=2022-03-12<br>All Cases=%{x}<br>New Cases=%{y}<extra></extra>",
           "legendgroup": "",
           "marker": {
            "color": "red",
            "symbol": "circle"
           },
           "mode": "markers",
           "name": "",
           "orientation": "v",
           "showlegend": false,
           "type": "scatter",
           "x": [
            536
           ],
           "xaxis": "x",
           "y": [
            368
           ],
           "yaxis": "y"
          }
         ],
         "name": "2022-03-12"
        },
        {
         "data": [
          {
           "hovertemplate": "Day=2022-03-13<br>All Cases=%{x}<br>New Cases=%{y}<extra></extra>",
           "legendgroup": "",
           "marker": {
            "color": "red",
            "symbol": "circle"
           },
           "mode": "markers",
           "name": "",
           "orientation": "v",
           "showlegend": false,
           "type": "scatter",
           "x": [
            597
           ],
           "xaxis": "x",
           "y": [
            364
           ],
           "yaxis": "y"
          }
         ],
         "name": "2022-03-13"
        },
        {
         "data": [
          {
           "hovertemplate": "Day=2022-03-14<br>All Cases=%{x}<br>New Cases=%{y}<extra></extra>",
           "legendgroup": "",
           "marker": {
            "color": "red",
            "symbol": "circle"
           },
           "mode": "markers",
           "name": "",
           "orientation": "v",
           "showlegend": false,
           "type": "scatter",
           "x": [
            736
           ],
           "xaxis": "x",
           "y": [
            423
           ],
           "yaxis": "y"
          }
         ],
         "name": "2022-03-14"
        },
        {
         "data": [
          {
           "hovertemplate": "Day=2022-03-15<br>All Cases=%{x}<br>New Cases=%{y}<extra></extra>",
           "legendgroup": "",
           "marker": {
            "color": "red",
            "symbol": "circle"
           },
           "mode": "markers",
           "name": "",
           "orientation": "v",
           "showlegend": false,
           "type": "scatter",
           "x": [
            938
           ],
           "xaxis": "x",
           "y": [
            550
           ],
           "yaxis": "y"
          }
         ],
         "name": "2022-03-15"
        },
        {
         "data": [
          {
           "hovertemplate": "Day=2022-03-17<br>All Cases=%{x}<br>New Cases=%{y}<extra></extra>",
           "legendgroup": "",
           "marker": {
            "color": "red",
            "symbol": "circle"
           },
           "mode": "markers",
           "name": "",
           "orientation": "v",
           "showlegend": false,
           "type": "scatter",
           "x": [
            1198
           ],
           "xaxis": "x",
           "y": [
            727
           ],
           "yaxis": "y"
          }
         ],
         "name": "2022-03-17"
        },
        {
         "data": [
          {
           "hovertemplate": "Day=2022-03-19<br>All Cases=%{x}<br>New Cases=%{y}<extra></extra>",
           "legendgroup": "",
           "marker": {
            "color": "red",
            "symbol": "circle"
           },
           "mode": "markers",
           "name": "",
           "orientation": "v",
           "showlegend": false,
           "type": "scatter",
           "x": [
            1707
           ],
           "xaxis": "x",
           "y": [
            1171
           ],
           "yaxis": "y"
          }
         ],
         "name": "2022-03-19"
        },
        {
         "data": [
          {
           "hovertemplate": "Day=2022-03-20<br>All Cases=%{x}<br>New Cases=%{y}<extra></extra>",
           "legendgroup": "",
           "marker": {
            "color": "red",
            "symbol": "circle"
           },
           "mode": "markers",
           "name": "",
           "orientation": "v",
           "showlegend": false,
           "type": "scatter",
           "x": [
            2465
           ],
           "xaxis": "x",
           "y": [
            1868
           ],
           "yaxis": "y"
          }
         ],
         "name": "2022-03-20"
        },
        {
         "data": [
          {
           "hovertemplate": "Day=2022-03-21<br>All Cases=%{x}<br>New Cases=%{y}<extra></extra>",
           "legendgroup": "",
           "marker": {
            "color": "red",
            "symbol": "circle"
           },
           "mode": "markers",
           "name": "",
           "orientation": "v",
           "showlegend": false,
           "type": "scatter",
           "x": [
            3361
           ],
           "xaxis": "x",
           "y": [
            2625
           ],
           "yaxis": "y"
          }
         ],
         "name": "2022-03-21"
        },
        {
         "data": [
          {
           "hovertemplate": "Day=2022-03-22<br>All Cases=%{x}<br>New Cases=%{y}<extra></extra>",
           "legendgroup": "",
           "marker": {
            "color": "red",
            "symbol": "circle"
           },
           "mode": "markers",
           "name": "",
           "orientation": "v",
           "showlegend": false,
           "type": "scatter",
           "x": [
            4342
           ],
           "xaxis": "x",
           "y": [
            3404
           ],
           "yaxis": "y"
          }
         ],
         "name": "2022-03-22"
        },
        {
         "data": [
          {
           "hovertemplate": "Day=2022-03-23<br>All Cases=%{x}<br>New Cases=%{y}<extra></extra>",
           "legendgroup": "",
           "marker": {
            "color": "red",
            "symbol": "circle"
           },
           "mode": "markers",
           "name": "",
           "orientation": "v",
           "showlegend": false,
           "type": "scatter",
           "x": [
            5325
           ],
           "xaxis": "x",
           "y": [
            4127
           ],
           "yaxis": "y"
          }
         ],
         "name": "2022-03-23"
        },
        {
         "data": [
          {
           "hovertemplate": "Day=2022-03-24<br>All Cases=%{x}<br>New Cases=%{y}<extra></extra>",
           "legendgroup": "",
           "marker": {
            "color": "red",
            "symbol": "circle"
           },
           "mode": "markers",
           "name": "",
           "orientation": "v",
           "showlegend": false,
           "type": "scatter",
           "x": [
            6934
           ],
           "xaxis": "x",
           "y": [
            5227
           ],
           "yaxis": "y"
          }
         ],
         "name": "2022-03-24"
        },
        {
         "data": [
          {
           "hovertemplate": "Day=2022-03-25<br>All Cases=%{x}<br>New Cases=%{y}<extra></extra>",
           "legendgroup": "",
           "marker": {
            "color": "red",
            "symbol": "circle"
           },
           "mode": "markers",
           "name": "",
           "orientation": "v",
           "showlegend": false,
           "type": "scatter",
           "x": [
            9203
           ],
           "xaxis": "x",
           "y": [
            6738
           ],
           "yaxis": "y"
          }
         ],
         "name": "2022-03-25"
        },
        {
         "data": [
          {
           "hovertemplate": "Day=2022-03-26<br>All Cases=%{x}<br>New Cases=%{y}<extra></extra>",
           "legendgroup": "",
           "marker": {
            "color": "red",
            "symbol": "circle"
           },
           "mode": "markers",
           "name": "",
           "orientation": "v",
           "showlegend": false,
           "type": "scatter",
           "x": [
            11879
           ],
           "xaxis": "x",
           "y": [
            8518
           ],
           "yaxis": "y"
          }
         ],
         "name": "2022-03-26"
        },
        {
         "data": [
          {
           "hovertemplate": "Day=2022-03-27<br>All Cases=%{x}<br>New Cases=%{y}<extra></extra>",
           "legendgroup": "",
           "marker": {
            "color": "red",
            "symbol": "circle"
           },
           "mode": "markers",
           "name": "",
           "orientation": "v",
           "showlegend": false,
           "type": "scatter",
           "x": [
            15379
           ],
           "xaxis": "x",
           "y": [
            11037
           ],
           "yaxis": "y"
          }
         ],
         "name": "2022-03-27"
        },
        {
         "data": [
          {
           "hovertemplate": "Day=2022-03-28<br>All Cases=%{x}<br>New Cases=%{y}<extra></extra>",
           "legendgroup": "",
           "marker": {
            "color": "red",
            "symbol": "circle"
           },
           "mode": "markers",
           "name": "",
           "orientation": "v",
           "showlegend": false,
           "type": "scatter",
           "x": [
            19856
           ],
           "xaxis": "x",
           "y": [
            14531
           ],
           "yaxis": "y"
          }
         ],
         "name": "2022-03-28"
        },
        {
         "data": [
          {
           "hovertemplate": "Day=2022-03-29<br>All Cases=%{x}<br>New Cases=%{y}<extra></extra>",
           "legendgroup": "",
           "marker": {
            "color": "red",
            "symbol": "circle"
           },
           "mode": "markers",
           "name": "",
           "orientation": "v",
           "showlegend": false,
           "type": "scatter",
           "x": [
            25838
           ],
           "xaxis": "x",
           "y": [
            18904
           ],
           "yaxis": "y"
          }
         ],
         "name": "2022-03-29"
        },
        {
         "data": [
          {
           "hovertemplate": "Day=2022-03-30<br>All Cases=%{x}<br>New Cases=%{y}<extra></extra>",
           "legendgroup": "",
           "marker": {
            "color": "red",
            "symbol": "circle"
           },
           "mode": "markers",
           "name": "",
           "orientation": "v",
           "showlegend": false,
           "type": "scatter",
           "x": [
            31491
           ],
           "xaxis": "x",
           "y": [
            22288
           ],
           "yaxis": "y"
          }
         ],
         "name": "2022-03-30"
        },
        {
         "data": [
          {
           "hovertemplate": "Day=2022-03-31<br>All Cases=%{x}<br>New Cases=%{y}<extra></extra>",
           "legendgroup": "",
           "marker": {
            "color": "red",
            "symbol": "circle"
           },
           "mode": "markers",
           "name": "",
           "orientation": "v",
           "showlegend": false,
           "type": "scatter",
           "x": [
            35993
           ],
           "xaxis": "x",
           "y": [
            24114
           ],
           "yaxis": "y"
          }
         ],
         "name": "2022-03-31"
        },
        {
         "data": [
          {
           "hovertemplate": "Day=2022-04-01<br>All Cases=%{x}<br>New Cases=%{y}<extra></extra>",
           "legendgroup": "",
           "marker": {
            "color": "red",
            "symbol": "circle"
           },
           "mode": "markers",
           "name": "",
           "orientation": "v",
           "showlegend": false,
           "type": "scatter",
           "x": [
            42304
           ],
           "xaxis": "x",
           "y": [
            26925
           ],
           "yaxis": "y"
          }
         ],
         "name": "2022-04-01"
        },
        {
         "data": [
          {
           "hovertemplate": "Day=2022-04-02<br>All Cases=%{x}<br>New Cases=%{y}<extra></extra>",
           "legendgroup": "",
           "marker": {
            "color": "red",
            "symbol": "circle"
           },
           "mode": "markers",
           "name": "",
           "orientation": "v",
           "showlegend": false,
           "type": "scatter",
           "x": [
            50530
           ],
           "xaxis": "x",
           "y": [
            30674
           ],
           "yaxis": "y"
          }
         ],
         "name": "2022-04-02"
        },
        {
         "data": [
          {
           "hovertemplate": "Day=2022-04-03<br>All Cases=%{x}<br>New Cases=%{y}<extra></extra>",
           "legendgroup": "",
           "marker": {
            "color": "red",
            "symbol": "circle"
           },
           "mode": "markers",
           "name": "",
           "orientation": "v",
           "showlegend": false,
           "type": "scatter",
           "x": [
            59536
           ],
           "xaxis": "x",
           "y": [
            33698
           ],
           "yaxis": "y"
          }
         ],
         "name": "2022-04-03"
        },
        {
         "data": [
          {
           "hovertemplate": "Day=2022-04-04<br>All Cases=%{x}<br>New Cases=%{y}<extra></extra>",
           "legendgroup": "",
           "marker": {
            "color": "red",
            "symbol": "circle"
           },
           "mode": "markers",
           "name": "",
           "orientation": "v",
           "showlegend": false,
           "type": "scatter",
           "x": [
            72890
           ],
           "xaxis": "x",
           "y": [
            41399
           ],
           "yaxis": "y"
          }
         ],
         "name": "2022-04-04"
        },
        {
         "data": [
          {
           "hovertemplate": "Day=2022-04-05<br>All Cases=%{x}<br>New Cases=%{y}<extra></extra>",
           "legendgroup": "",
           "marker": {
            "color": "red",
            "symbol": "circle"
           },
           "mode": "markers",
           "name": "",
           "orientation": "v",
           "showlegend": false,
           "type": "scatter",
           "x": [
            89967
           ],
           "xaxis": "x",
           "y": [
            53974
           ],
           "yaxis": "y"
          }
         ],
         "name": "2022-04-05"
        },
        {
         "data": [
          {
           "hovertemplate": "Day=2022-04-06<br>All Cases=%{x}<br>New Cases=%{y}<extra></extra>",
           "legendgroup": "",
           "marker": {
            "color": "red",
            "symbol": "circle"
           },
           "mode": "markers",
           "name": "",
           "orientation": "v",
           "showlegend": false,
           "type": "scatter",
           "x": [
            109949
           ],
           "xaxis": "x",
           "y": [
            67645
           ],
           "yaxis": "y"
          }
         ],
         "name": "2022-04-06"
        },
        {
         "data": [
          {
           "hovertemplate": "Day=2022-04-07<br>All Cases=%{x}<br>New Cases=%{y}<extra></extra>",
           "legendgroup": "",
           "marker": {
            "color": "red",
            "symbol": "circle"
           },
           "mode": "markers",
           "name": "",
           "orientation": "v",
           "showlegend": false,
           "type": "scatter",
           "x": [
            131171
           ],
           "xaxis": "x",
           "y": [
            80641
           ],
           "yaxis": "y"
          }
         ],
         "name": "2022-04-07"
        },
        {
         "data": [
          {
           "hovertemplate": "Day=2022-04-08<br>All Cases=%{x}<br>New Cases=%{y}<extra></extra>",
           "legendgroup": "",
           "marker": {
            "color": "red",
            "symbol": "circle"
           },
           "mode": "markers",
           "name": "",
           "orientation": "v",
           "showlegend": false,
           "type": "scatter",
           "x": [
            154795
           ],
           "xaxis": "x",
           "y": [
            95259
           ],
           "yaxis": "y"
          }
         ],
         "name": "2022-04-08"
        },
        {
         "data": [
          {
           "hovertemplate": "Day=2022-04-09<br>All Cases=%{x}<br>New Cases=%{y}<extra></extra>",
           "legendgroup": "",
           "marker": {
            "color": "red",
            "symbol": "circle"
           },
           "mode": "markers",
           "name": "",
           "orientation": "v",
           "showlegend": false,
           "type": "scatter",
           "x": [
            179738
           ],
           "xaxis": "x",
           "y": [
            106848
           ],
           "yaxis": "y"
          }
         ],
         "name": "2022-04-09"
        },
        {
         "data": [
          {
           "hovertemplate": "Day=2022-04-10<br>All Cases=%{x}<br>New Cases=%{y}<extra></extra>",
           "legendgroup": "",
           "marker": {
            "color": "red",
            "symbol": "circle"
           },
           "mode": "markers",
           "name": "",
           "orientation": "v",
           "showlegend": false,
           "type": "scatter",
           "x": [
            205825
           ],
           "xaxis": "x",
           "y": [
            115858
           ],
           "yaxis": "y"
          }
         ],
         "name": "2022-04-10"
        },
        {
         "data": [
          {
           "hovertemplate": "Day=2022-04-11<br>All Cases=%{x}<br>New Cases=%{y}<extra></extra>",
           "legendgroup": "",
           "marker": {
            "color": "red",
            "symbol": "circle"
           },
           "mode": "markers",
           "name": "",
           "orientation": "v",
           "showlegend": false,
           "type": "scatter",
           "x": [
            229167
           ],
           "xaxis": "x",
           "y": [
            119218
           ],
           "yaxis": "y"
          }
         ],
         "name": "2022-04-11"
        },
        {
         "data": [
          {
           "hovertemplate": "Day=2022-04-12<br>All Cases=%{x}<br>New Cases=%{y}<extra></extra>",
           "legendgroup": "",
           "marker": {
            "color": "red",
            "symbol": "circle"
           },
           "mode": "markers",
           "name": "",
           "orientation": "v",
           "showlegend": false,
           "type": "scatter",
           "x": [
            255497
           ],
           "xaxis": "x",
           "y": [
            124326
           ],
           "yaxis": "y"
          }
         ],
         "name": "2022-04-12"
        }
       ],
       "layout": {
        "legend": {
         "tracegroupgap": 0
        },
        "margin": {
         "t": 60
        },
        "shapes": [
         {
          "line": {
           "color": "rgba(100, 100, 255, 0.5)"
          },
          "type": "line",
          "x0": 0,
          "x1": 1,
          "xref": "paper",
          "y0": 0,
          "y1": 1,
          "yref": "paper"
         }
        ],
        "sliders": [
         {
          "active": 0,
          "currentvalue": {
           "prefix": "Day="
          },
          "len": 0.9,
          "pad": {
           "b": 10,
           "t": 60
          },
          "steps": [
           {
            "args": [
             [
              "2022-03-06"
             ],
             {
              "frame": {
               "duration": 0,
               "redraw": false
              },
              "fromcurrent": true,
              "mode": "immediate",
              "transition": {
               "duration": 0,
               "easing": "linear"
              }
             }
            ],
            "label": "2022-03-06",
            "method": "animate"
           },
           {
            "args": [
             [
              "2022-03-07"
             ],
             {
              "frame": {
               "duration": 0,
               "redraw": false
              },
              "fromcurrent": true,
              "mode": "immediate",
              "transition": {
               "duration": 0,
               "easing": "linear"
              }
             }
            ],
            "label": "2022-03-07",
            "method": "animate"
           },
           {
            "args": [
             [
              "2022-03-08"
             ],
             {
              "frame": {
               "duration": 0,
               "redraw": false
              },
              "fromcurrent": true,
              "mode": "immediate",
              "transition": {
               "duration": 0,
               "easing": "linear"
              }
             }
            ],
            "label": "2022-03-08",
            "method": "animate"
           },
           {
            "args": [
             [
              "2022-03-09"
             ],
             {
              "frame": {
               "duration": 0,
               "redraw": false
              },
              "fromcurrent": true,
              "mode": "immediate",
              "transition": {
               "duration": 0,
               "easing": "linear"
              }
             }
            ],
            "label": "2022-03-09",
            "method": "animate"
           },
           {
            "args": [
             [
              "2022-03-10"
             ],
             {
              "frame": {
               "duration": 0,
               "redraw": false
              },
              "fromcurrent": true,
              "mode": "immediate",
              "transition": {
               "duration": 0,
               "easing": "linear"
              }
             }
            ],
            "label": "2022-03-10",
            "method": "animate"
           },
           {
            "args": [
             [
              "2022-03-11"
             ],
             {
              "frame": {
               "duration": 0,
               "redraw": false
              },
              "fromcurrent": true,
              "mode": "immediate",
              "transition": {
               "duration": 0,
               "easing": "linear"
              }
             }
            ],
            "label": "2022-03-11",
            "method": "animate"
           },
           {
            "args": [
             [
              "2022-03-12"
             ],
             {
              "frame": {
               "duration": 0,
               "redraw": false
              },
              "fromcurrent": true,
              "mode": "immediate",
              "transition": {
               "duration": 0,
               "easing": "linear"
              }
             }
            ],
            "label": "2022-03-12",
            "method": "animate"
           },
           {
            "args": [
             [
              "2022-03-13"
             ],
             {
              "frame": {
               "duration": 0,
               "redraw": false
              },
              "fromcurrent": true,
              "mode": "immediate",
              "transition": {
               "duration": 0,
               "easing": "linear"
              }
             }
            ],
            "label": "2022-03-13",
            "method": "animate"
           },
           {
            "args": [
             [
              "2022-03-14"
             ],
             {
              "frame": {
               "duration": 0,
               "redraw": false
              },
              "fromcurrent": true,
              "mode": "immediate",
              "transition": {
               "duration": 0,
               "easing": "linear"
              }
             }
            ],
            "label": "2022-03-14",
            "method": "animate"
           },
           {
            "args": [
             [
              "2022-03-15"
             ],
             {
              "frame": {
               "duration": 0,
               "redraw": false
              },
              "fromcurrent": true,
              "mode": "immediate",
              "transition": {
               "duration": 0,
               "easing": "linear"
              }
             }
            ],
            "label": "2022-03-15",
            "method": "animate"
           },
           {
            "args": [
             [
              "2022-03-17"
             ],
             {
              "frame": {
               "duration": 0,
               "redraw": false
              },
              "fromcurrent": true,
              "mode": "immediate",
              "transition": {
               "duration": 0,
               "easing": "linear"
              }
             }
            ],
            "label": "2022-03-17",
            "method": "animate"
           },
           {
            "args": [
             [
              "2022-03-19"
             ],
             {
              "frame": {
               "duration": 0,
               "redraw": false
              },
              "fromcurrent": true,
              "mode": "immediate",
              "transition": {
               "duration": 0,
               "easing": "linear"
              }
             }
            ],
            "label": "2022-03-19",
            "method": "animate"
           },
           {
            "args": [
             [
              "2022-03-20"
             ],
             {
              "frame": {
               "duration": 0,
               "redraw": false
              },
              "fromcurrent": true,
              "mode": "immediate",
              "transition": {
               "duration": 0,
               "easing": "linear"
              }
             }
            ],
            "label": "2022-03-20",
            "method": "animate"
           },
           {
            "args": [
             [
              "2022-03-21"
             ],
             {
              "frame": {
               "duration": 0,
               "redraw": false
              },
              "fromcurrent": true,
              "mode": "immediate",
              "transition": {
               "duration": 0,
               "easing": "linear"
              }
             }
            ],
            "label": "2022-03-21",
            "method": "animate"
           },
           {
            "args": [
             [
              "2022-03-22"
             ],
             {
              "frame": {
               "duration": 0,
               "redraw": false
              },
              "fromcurrent": true,
              "mode": "immediate",
              "transition": {
               "duration": 0,
               "easing": "linear"
              }
             }
            ],
            "label": "2022-03-22",
            "method": "animate"
           },
           {
            "args": [
             [
              "2022-03-23"
             ],
             {
              "frame": {
               "duration": 0,
               "redraw": false
              },
              "fromcurrent": true,
              "mode": "immediate",
              "transition": {
               "duration": 0,
               "easing": "linear"
              }
             }
            ],
            "label": "2022-03-23",
            "method": "animate"
           },
           {
            "args": [
             [
              "2022-03-24"
             ],
             {
              "frame": {
               "duration": 0,
               "redraw": false
              },
              "fromcurrent": true,
              "mode": "immediate",
              "transition": {
               "duration": 0,
               "easing": "linear"
              }
             }
            ],
            "label": "2022-03-24",
            "method": "animate"
           },
           {
            "args": [
             [
              "2022-03-25"
             ],
             {
              "frame": {
               "duration": 0,
               "redraw": false
              },
              "fromcurrent": true,
              "mode": "immediate",
              "transition": {
               "duration": 0,
               "easing": "linear"
              }
             }
            ],
            "label": "2022-03-25",
            "method": "animate"
           },
           {
            "args": [
             [
              "2022-03-26"
             ],
             {
              "frame": {
               "duration": 0,
               "redraw": false
              },
              "fromcurrent": true,
              "mode": "immediate",
              "transition": {
               "duration": 0,
               "easing": "linear"
              }
             }
            ],
            "label": "2022-03-26",
            "method": "animate"
           },
           {
            "args": [
             [
              "2022-03-27"
             ],
             {
              "frame": {
               "duration": 0,
               "redraw": false
              },
              "fromcurrent": true,
              "mode": "immediate",
              "transition": {
               "duration": 0,
               "easing": "linear"
              }
             }
            ],
            "label": "2022-03-27",
            "method": "animate"
           },
           {
            "args": [
             [
              "2022-03-28"
             ],
             {
              "frame": {
               "duration": 0,
               "redraw": false
              },
              "fromcurrent": true,
              "mode": "immediate",
              "transition": {
               "duration": 0,
               "easing": "linear"
              }
             }
            ],
            "label": "2022-03-28",
            "method": "animate"
           },
           {
            "args": [
             [
              "2022-03-29"
             ],
             {
              "frame": {
               "duration": 0,
               "redraw": false
              },
              "fromcurrent": true,
              "mode": "immediate",
              "transition": {
               "duration": 0,
               "easing": "linear"
              }
             }
            ],
            "label": "2022-03-29",
            "method": "animate"
           },
           {
            "args": [
             [
              "2022-03-30"
             ],
             {
              "frame": {
               "duration": 0,
               "redraw": false
              },
              "fromcurrent": true,
              "mode": "immediate",
              "transition": {
               "duration": 0,
               "easing": "linear"
              }
             }
            ],
            "label": "2022-03-30",
            "method": "animate"
           },
           {
            "args": [
             [
              "2022-03-31"
             ],
             {
              "frame": {
               "duration": 0,
               "redraw": false
              },
              "fromcurrent": true,
              "mode": "immediate",
              "transition": {
               "duration": 0,
               "easing": "linear"
              }
             }
            ],
            "label": "2022-03-31",
            "method": "animate"
           },
           {
            "args": [
             [
              "2022-04-01"
             ],
             {
              "frame": {
               "duration": 0,
               "redraw": false
              },
              "fromcurrent": true,
              "mode": "immediate",
              "transition": {
               "duration": 0,
               "easing": "linear"
              }
             }
            ],
            "label": "2022-04-01",
            "method": "animate"
           },
           {
            "args": [
             [
              "2022-04-02"
             ],
             {
              "frame": {
               "duration": 0,
               "redraw": false
              },
              "fromcurrent": true,
              "mode": "immediate",
              "transition": {
               "duration": 0,
               "easing": "linear"
              }
             }
            ],
            "label": "2022-04-02",
            "method": "animate"
           },
           {
            "args": [
             [
              "2022-04-03"
             ],
             {
              "frame": {
               "duration": 0,
               "redraw": false
              },
              "fromcurrent": true,
              "mode": "immediate",
              "transition": {
               "duration": 0,
               "easing": "linear"
              }
             }
            ],
            "label": "2022-04-03",
            "method": "animate"
           },
           {
            "args": [
             [
              "2022-04-04"
             ],
             {
              "frame": {
               "duration": 0,
               "redraw": false
              },
              "fromcurrent": true,
              "mode": "immediate",
              "transition": {
               "duration": 0,
               "easing": "linear"
              }
             }
            ],
            "label": "2022-04-04",
            "method": "animate"
           },
           {
            "args": [
             [
              "2022-04-05"
             ],
             {
              "frame": {
               "duration": 0,
               "redraw": false
              },
              "fromcurrent": true,
              "mode": "immediate",
              "transition": {
               "duration": 0,
               "easing": "linear"
              }
             }
            ],
            "label": "2022-04-05",
            "method": "animate"
           },
           {
            "args": [
             [
              "2022-04-06"
             ],
             {
              "frame": {
               "duration": 0,
               "redraw": false
              },
              "fromcurrent": true,
              "mode": "immediate",
              "transition": {
               "duration": 0,
               "easing": "linear"
              }
             }
            ],
            "label": "2022-04-06",
            "method": "animate"
           },
           {
            "args": [
             [
              "2022-04-07"
             ],
             {
              "frame": {
               "duration": 0,
               "redraw": false
              },
              "fromcurrent": true,
              "mode": "immediate",
              "transition": {
               "duration": 0,
               "easing": "linear"
              }
             }
            ],
            "label": "2022-04-07",
            "method": "animate"
           },
           {
            "args": [
             [
              "2022-04-08"
             ],
             {
              "frame": {
               "duration": 0,
               "redraw": false
              },
              "fromcurrent": true,
              "mode": "immediate",
              "transition": {
               "duration": 0,
               "easing": "linear"
              }
             }
            ],
            "label": "2022-04-08",
            "method": "animate"
           },
           {
            "args": [
             [
              "2022-04-09"
             ],
             {
              "frame": {
               "duration": 0,
               "redraw": false
              },
              "fromcurrent": true,
              "mode": "immediate",
              "transition": {
               "duration": 0,
               "easing": "linear"
              }
             }
            ],
            "label": "2022-04-09",
            "method": "animate"
           },
           {
            "args": [
             [
              "2022-04-10"
             ],
             {
              "frame": {
               "duration": 0,
               "redraw": false
              },
              "fromcurrent": true,
              "mode": "immediate",
              "transition": {
               "duration": 0,
               "easing": "linear"
              }
             }
            ],
            "label": "2022-04-10",
            "method": "animate"
           },
           {
            "args": [
             [
              "2022-04-11"
             ],
             {
              "frame": {
               "duration": 0,
               "redraw": false
              },
              "fromcurrent": true,
              "mode": "immediate",
              "transition": {
               "duration": 0,
               "easing": "linear"
              }
             }
            ],
            "label": "2022-04-11",
            "method": "animate"
           },
           {
            "args": [
             [
              "2022-04-12"
             ],
             {
              "frame": {
               "duration": 0,
               "redraw": false
              },
              "fromcurrent": true,
              "mode": "immediate",
              "transition": {
               "duration": 0,
               "easing": "linear"
              }
             }
            ],
            "label": "2022-04-12",
            "method": "animate"
           }
          ],
          "x": 0.1,
          "xanchor": "left",
          "y": 0,
          "yanchor": "top"
         }
        ],
        "template": {
         "data": {
          "bar": [
           {
            "error_x": {
             "color": "#2a3f5f"
            },
            "error_y": {
             "color": "#2a3f5f"
            },
            "marker": {
             "line": {
              "color": "#E5ECF6",
              "width": 0.5
             },
             "pattern": {
              "fillmode": "overlay",
              "size": 10,
              "solidity": 0.2
             }
            },
            "type": "bar"
           }
          ],
          "barpolar": [
           {
            "marker": {
             "line": {
              "color": "#E5ECF6",
              "width": 0.5
             },
             "pattern": {
              "fillmode": "overlay",
              "size": 10,
              "solidity": 0.2
             }
            },
            "type": "barpolar"
           }
          ],
          "carpet": [
           {
            "aaxis": {
             "endlinecolor": "#2a3f5f",
             "gridcolor": "white",
             "linecolor": "white",
             "minorgridcolor": "white",
             "startlinecolor": "#2a3f5f"
            },
            "baxis": {
             "endlinecolor": "#2a3f5f",
             "gridcolor": "white",
             "linecolor": "white",
             "minorgridcolor": "white",
             "startlinecolor": "#2a3f5f"
            },
            "type": "carpet"
           }
          ],
          "choropleth": [
           {
            "colorbar": {
             "outlinewidth": 0,
             "ticks": ""
            },
            "type": "choropleth"
           }
          ],
          "contour": [
           {
            "colorbar": {
             "outlinewidth": 0,
             "ticks": ""
            },
            "colorscale": [
             [
              0,
              "#0d0887"
             ],
             [
              0.1111111111111111,
              "#46039f"
             ],
             [
              0.2222222222222222,
              "#7201a8"
             ],
             [
              0.3333333333333333,
              "#9c179e"
             ],
             [
              0.4444444444444444,
              "#bd3786"
             ],
             [
              0.5555555555555556,
              "#d8576b"
             ],
             [
              0.6666666666666666,
              "#ed7953"
             ],
             [
              0.7777777777777778,
              "#fb9f3a"
             ],
             [
              0.8888888888888888,
              "#fdca26"
             ],
             [
              1,
              "#f0f921"
             ]
            ],
            "type": "contour"
           }
          ],
          "contourcarpet": [
           {
            "colorbar": {
             "outlinewidth": 0,
             "ticks": ""
            },
            "type": "contourcarpet"
           }
          ],
          "heatmap": [
           {
            "colorbar": {
             "outlinewidth": 0,
             "ticks": ""
            },
            "colorscale": [
             [
              0,
              "#0d0887"
             ],
             [
              0.1111111111111111,
              "#46039f"
             ],
             [
              0.2222222222222222,
              "#7201a8"
             ],
             [
              0.3333333333333333,
              "#9c179e"
             ],
             [
              0.4444444444444444,
              "#bd3786"
             ],
             [
              0.5555555555555556,
              "#d8576b"
             ],
             [
              0.6666666666666666,
              "#ed7953"
             ],
             [
              0.7777777777777778,
              "#fb9f3a"
             ],
             [
              0.8888888888888888,
              "#fdca26"
             ],
             [
              1,
              "#f0f921"
             ]
            ],
            "type": "heatmap"
           }
          ],
          "heatmapgl": [
           {
            "colorbar": {
             "outlinewidth": 0,
             "ticks": ""
            },
            "colorscale": [
             [
              0,
              "#0d0887"
             ],
             [
              0.1111111111111111,
              "#46039f"
             ],
             [
              0.2222222222222222,
              "#7201a8"
             ],
             [
              0.3333333333333333,
              "#9c179e"
             ],
             [
              0.4444444444444444,
              "#bd3786"
             ],
             [
              0.5555555555555556,
              "#d8576b"
             ],
             [
              0.6666666666666666,
              "#ed7953"
             ],
             [
              0.7777777777777778,
              "#fb9f3a"
             ],
             [
              0.8888888888888888,
              "#fdca26"
             ],
             [
              1,
              "#f0f921"
             ]
            ],
            "type": "heatmapgl"
           }
          ],
          "histogram": [
           {
            "marker": {
             "pattern": {
              "fillmode": "overlay",
              "size": 10,
              "solidity": 0.2
             }
            },
            "type": "histogram"
           }
          ],
          "histogram2d": [
           {
            "colorbar": {
             "outlinewidth": 0,
             "ticks": ""
            },
            "colorscale": [
             [
              0,
              "#0d0887"
             ],
             [
              0.1111111111111111,
              "#46039f"
             ],
             [
              0.2222222222222222,
              "#7201a8"
             ],
             [
              0.3333333333333333,
              "#9c179e"
             ],
             [
              0.4444444444444444,
              "#bd3786"
             ],
             [
              0.5555555555555556,
              "#d8576b"
             ],
             [
              0.6666666666666666,
              "#ed7953"
             ],
             [
              0.7777777777777778,
              "#fb9f3a"
             ],
             [
              0.8888888888888888,
              "#fdca26"
             ],
             [
              1,
              "#f0f921"
             ]
            ],
            "type": "histogram2d"
           }
          ],
          "histogram2dcontour": [
           {
            "colorbar": {
             "outlinewidth": 0,
             "ticks": ""
            },
            "colorscale": [
             [
              0,
              "#0d0887"
             ],
             [
              0.1111111111111111,
              "#46039f"
             ],
             [
              0.2222222222222222,
              "#7201a8"
             ],
             [
              0.3333333333333333,
              "#9c179e"
             ],
             [
              0.4444444444444444,
              "#bd3786"
             ],
             [
              0.5555555555555556,
              "#d8576b"
             ],
             [
              0.6666666666666666,
              "#ed7953"
             ],
             [
              0.7777777777777778,
              "#fb9f3a"
             ],
             [
              0.8888888888888888,
              "#fdca26"
             ],
             [
              1,
              "#f0f921"
             ]
            ],
            "type": "histogram2dcontour"
           }
          ],
          "mesh3d": [
           {
            "colorbar": {
             "outlinewidth": 0,
             "ticks": ""
            },
            "type": "mesh3d"
           }
          ],
          "parcoords": [
           {
            "line": {
             "colorbar": {
              "outlinewidth": 0,
              "ticks": ""
             }
            },
            "type": "parcoords"
           }
          ],
          "pie": [
           {
            "automargin": true,
            "type": "pie"
           }
          ],
          "scatter": [
           {
            "fillpattern": {
             "fillmode": "overlay",
             "size": 10,
             "solidity": 0.2
            },
            "type": "scatter"
           }
          ],
          "scatter3d": [
           {
            "line": {
             "colorbar": {
              "outlinewidth": 0,
              "ticks": ""
             }
            },
            "marker": {
             "colorbar": {
              "outlinewidth": 0,
              "ticks": ""
             }
            },
            "type": "scatter3d"
           }
          ],
          "scattercarpet": [
           {
            "marker": {
             "colorbar": {
              "outlinewidth": 0,
              "ticks": ""
             }
            },
            "type": "scattercarpet"
           }
          ],
          "scattergeo": [
           {
            "marker": {
             "colorbar": {
              "outlinewidth": 0,
              "ticks": ""
             }
            },
            "type": "scattergeo"
           }
          ],
          "scattergl": [
           {
            "marker": {
             "colorbar": {
              "outlinewidth": 0,
              "ticks": ""
             }
            },
            "type": "scattergl"
           }
          ],
          "scattermapbox": [
           {
            "marker": {
             "colorbar": {
              "outlinewidth": 0,
              "ticks": ""
             }
            },
            "type": "scattermapbox"
           }
          ],
          "scatterpolar": [
           {
            "marker": {
             "colorbar": {
              "outlinewidth": 0,
              "ticks": ""
             }
            },
            "type": "scatterpolar"
           }
          ],
          "scatterpolargl": [
           {
            "marker": {
             "colorbar": {
              "outlinewidth": 0,
              "ticks": ""
             }
            },
            "type": "scatterpolargl"
           }
          ],
          "scatterternary": [
           {
            "marker": {
             "colorbar": {
              "outlinewidth": 0,
              "ticks": ""
             }
            },
            "type": "scatterternary"
           }
          ],
          "surface": [
           {
            "colorbar": {
             "outlinewidth": 0,
             "ticks": ""
            },
            "colorscale": [
             [
              0,
              "#0d0887"
             ],
             [
              0.1111111111111111,
              "#46039f"
             ],
             [
              0.2222222222222222,
              "#7201a8"
             ],
             [
              0.3333333333333333,
              "#9c179e"
             ],
             [
              0.4444444444444444,
              "#bd3786"
             ],
             [
              0.5555555555555556,
              "#d8576b"
             ],
             [
              0.6666666666666666,
              "#ed7953"
             ],
             [
              0.7777777777777778,
              "#fb9f3a"
             ],
             [
              0.8888888888888888,
              "#fdca26"
             ],
             [
              1,
              "#f0f921"
             ]
            ],
            "type": "surface"
           }
          ],
          "table": [
           {
            "cells": {
             "fill": {
              "color": "#EBF0F8"
             },
             "line": {
              "color": "white"
             }
            },
            "header": {
             "fill": {
              "color": "#C8D4E3"
             },
             "line": {
              "color": "white"
             }
            },
            "type": "table"
           }
          ]
         },
         "layout": {
          "annotationdefaults": {
           "arrowcolor": "#2a3f5f",
           "arrowhead": 0,
           "arrowwidth": 1
          },
          "autotypenumbers": "strict",
          "coloraxis": {
           "colorbar": {
            "outlinewidth": 0,
            "ticks": ""
           }
          },
          "colorscale": {
           "diverging": [
            [
             0,
             "#8e0152"
            ],
            [
             0.1,
             "#c51b7d"
            ],
            [
             0.2,
             "#de77ae"
            ],
            [
             0.3,
             "#f1b6da"
            ],
            [
             0.4,
             "#fde0ef"
            ],
            [
             0.5,
             "#f7f7f7"
            ],
            [
             0.6,
             "#e6f5d0"
            ],
            [
             0.7,
             "#b8e186"
            ],
            [
             0.8,
             "#7fbc41"
            ],
            [
             0.9,
             "#4d9221"
            ],
            [
             1,
             "#276419"
            ]
           ],
           "sequential": [
            [
             0,
             "#0d0887"
            ],
            [
             0.1111111111111111,
             "#46039f"
            ],
            [
             0.2222222222222222,
             "#7201a8"
            ],
            [
             0.3333333333333333,
             "#9c179e"
            ],
            [
             0.4444444444444444,
             "#bd3786"
            ],
            [
             0.5555555555555556,
             "#d8576b"
            ],
            [
             0.6666666666666666,
             "#ed7953"
            ],
            [
             0.7777777777777778,
             "#fb9f3a"
            ],
            [
             0.8888888888888888,
             "#fdca26"
            ],
            [
             1,
             "#f0f921"
            ]
           ],
           "sequentialminus": [
            [
             0,
             "#0d0887"
            ],
            [
             0.1111111111111111,
             "#46039f"
            ],
            [
             0.2222222222222222,
             "#7201a8"
            ],
            [
             0.3333333333333333,
             "#9c179e"
            ],
            [
             0.4444444444444444,
             "#bd3786"
            ],
            [
             0.5555555555555556,
             "#d8576b"
            ],
            [
             0.6666666666666666,
             "#ed7953"
            ],
            [
             0.7777777777777778,
             "#fb9f3a"
            ],
            [
             0.8888888888888888,
             "#fdca26"
            ],
            [
             1,
             "#f0f921"
            ]
           ]
          },
          "colorway": [
           "#636efa",
           "#EF553B",
           "#00cc96",
           "#ab63fa",
           "#FFA15A",
           "#19d3f3",
           "#FF6692",
           "#B6E880",
           "#FF97FF",
           "#FECB52"
          ],
          "font": {
           "color": "#2a3f5f"
          },
          "geo": {
           "bgcolor": "white",
           "lakecolor": "white",
           "landcolor": "#E5ECF6",
           "showlakes": true,
           "showland": true,
           "subunitcolor": "white"
          },
          "hoverlabel": {
           "align": "left"
          },
          "hovermode": "closest",
          "mapbox": {
           "style": "light"
          },
          "paper_bgcolor": "white",
          "plot_bgcolor": "#E5ECF6",
          "polar": {
           "angularaxis": {
            "gridcolor": "white",
            "linecolor": "white",
            "ticks": ""
           },
           "bgcolor": "#E5ECF6",
           "radialaxis": {
            "gridcolor": "white",
            "linecolor": "white",
            "ticks": ""
           }
          },
          "scene": {
           "xaxis": {
            "backgroundcolor": "#E5ECF6",
            "gridcolor": "white",
            "gridwidth": 2,
            "linecolor": "white",
            "showbackground": true,
            "ticks": "",
            "zerolinecolor": "white"
           },
           "yaxis": {
            "backgroundcolor": "#E5ECF6",
            "gridcolor": "white",
            "gridwidth": 2,
            "linecolor": "white",
            "showbackground": true,
            "ticks": "",
            "zerolinecolor": "white"
           },
           "zaxis": {
            "backgroundcolor": "#E5ECF6",
            "gridcolor": "white",
            "gridwidth": 2,
            "linecolor": "white",
            "showbackground": true,
            "ticks": "",
            "zerolinecolor": "white"
           }
          },
          "shapedefaults": {
           "line": {
            "color": "#2a3f5f"
           }
          },
          "ternary": {
           "aaxis": {
            "gridcolor": "white",
            "linecolor": "white",
            "ticks": ""
           },
           "baxis": {
            "gridcolor": "white",
            "linecolor": "white",
            "ticks": ""
           },
           "bgcolor": "#E5ECF6",
           "caxis": {
            "gridcolor": "white",
            "linecolor": "white",
            "ticks": ""
           }
          },
          "title": {
           "x": 0.05
          },
          "xaxis": {
           "automargin": true,
           "gridcolor": "white",
           "linecolor": "white",
           "ticks": "",
           "title": {
            "standoff": 15
           },
           "zerolinecolor": "white",
           "zerolinewidth": 2
          },
          "yaxis": {
           "automargin": true,
           "gridcolor": "white",
           "linecolor": "white",
           "ticks": "",
           "title": {
            "standoff": 15
           },
           "zerolinecolor": "white",
           "zerolinewidth": 2
          }
         }
        },
        "updatemenus": [
         {
          "buttons": [
           {
            "args": [
             null,
             {
              "frame": {
               "duration": 500,
               "redraw": false
              },
              "fromcurrent": true,
              "mode": "immediate",
              "transition": {
               "duration": 500,
               "easing": "linear"
              }
             }
            ],
            "label": "&#9654;",
            "method": "animate"
           },
           {
            "args": [
             [
              null
             ],
             {
              "frame": {
               "duration": 0,
               "redraw": false
              },
              "fromcurrent": true,
              "mode": "immediate",
              "transition": {
               "duration": 0,
               "easing": "linear"
              }
             }
            ],
            "label": "&#9724;",
            "method": "animate"
           }
          ],
          "direction": "left",
          "pad": {
           "r": 10,
           "t": 70
          },
          "showactive": false,
          "type": "buttons",
          "x": 0.1,
          "xanchor": "right",
          "y": 0,
          "yanchor": "top"
         }
        ],
        "xaxis": {
         "anchor": "y",
         "domain": [
          0,
          1
         ],
         "range": [
          0,
          5.70841580075665
         ],
         "title": {
          "text": "All Cases"
         },
         "type": "log"
        },
        "yaxis": {
         "anchor": "x",
         "domain": [
          0,
          1
         ],
         "range": [
          0,
          5.395591956773433
         ],
         "title": {
          "text": "New Cases"
         },
         "type": "log"
        }
       }
      },
      "text/html": [
       "<div>                            <div id=\"6a9afe64-268d-42c1-be6c-7ede5e3a8e33\" class=\"plotly-graph-div\" style=\"height:525px; width:100%;\"></div>            <script type=\"text/javascript\">                require([\"plotly\"], function(Plotly) {                    window.PLOTLYENV=window.PLOTLYENV || {};                                    if (document.getElementById(\"6a9afe64-268d-42c1-be6c-7ede5e3a8e33\")) {                    Plotly.newPlot(                        \"6a9afe64-268d-42c1-be6c-7ede5e3a8e33\",                        [{\"hovertemplate\":\"Day=2022-03-06<br>All Cases=%{x}<br>New Cases=%{y}<extra></extra>\",\"legendgroup\":\"\",\"marker\":{\"color\":\"red\",\"symbol\":\"circle\"},\"mode\":\"markers\",\"name\":\"\",\"orientation\":\"v\",\"showlegend\":false,\"x\":[113],\"xaxis\":\"x\",\"y\":[113.0],\"yaxis\":\"y\",\"type\":\"scatter\"},{\"mode\":\"markers+lines+text\",\"name\":\"Shanghai\",\"text\":[\"2022-03-06\",\"2022-03-07\",\"2022-03-08\",\"2022-03-09\",\"2022-03-10\",\"2022-03-11\",\"2022-03-12\",\"2022-03-13\",\"2022-03-14\",\"2022-03-15\",\"2022-03-17\",\"2022-03-19\",\"2022-03-20\",\"2022-03-21\",\"2022-03-22\",\"2022-03-23\",\"2022-03-24\",\"2022-03-25\",\"2022-03-26\",\"2022-03-27\",\"2022-03-28\",\"2022-03-29\",\"2022-03-30\",\"2022-03-31\",\"2022-04-01\",\"2022-04-02\",\"2022-04-03\",\"2022-04-04\",\"2022-04-05\",\"2022-04-06\",\"2022-04-07\",\"2022-04-08\",\"2022-04-09\",\"2022-04-10\",\"2022-04-11\",\"2022-04-12\"],\"textfont\":{\"size\":4},\"textposition\":\"top left\",\"x\":[113,168,233,313,388,471,536,597,736,938,1198,1707,2465,3361,4342,5325,6934,9203,11879,15379,19856,25838,31491,35993,42304,50530,59536,72890,89967,109949,131171,154795,179738,205825,229167,255497],\"y\":[113.0,166.0,215.0,276.0,323.0,358.0,368.0,364.0,423.0,550.0,727.0,1171.0,1868.0,2625.0,3404.0,4127.0,5227.0,6738.0,8518.0,11037.0,14531.0,18904.0,22288.0,24114.0,26925.0,30674.0,33698.0,41399.0,53974.0,67645.0,80641.0,95259.0,106848.0,115858.0,119218.0,124326.0],\"type\":\"scatter\"}],                        {\"template\":{\"data\":{\"histogram2dcontour\":[{\"type\":\"histogram2dcontour\",\"colorbar\":{\"outlinewidth\":0,\"ticks\":\"\"},\"colorscale\":[[0.0,\"#0d0887\"],[0.1111111111111111,\"#46039f\"],[0.2222222222222222,\"#7201a8\"],[0.3333333333333333,\"#9c179e\"],[0.4444444444444444,\"#bd3786\"],[0.5555555555555556,\"#d8576b\"],[0.6666666666666666,\"#ed7953\"],[0.7777777777777778,\"#fb9f3a\"],[0.8888888888888888,\"#fdca26\"],[1.0,\"#f0f921\"]]}],\"choropleth\":[{\"type\":\"choropleth\",\"colorbar\":{\"outlinewidth\":0,\"ticks\":\"\"}}],\"histogram2d\":[{\"type\":\"histogram2d\",\"colorbar\":{\"outlinewidth\":0,\"ticks\":\"\"},\"colorscale\":[[0.0,\"#0d0887\"],[0.1111111111111111,\"#46039f\"],[0.2222222222222222,\"#7201a8\"],[0.3333333333333333,\"#9c179e\"],[0.4444444444444444,\"#bd3786\"],[0.5555555555555556,\"#d8576b\"],[0.6666666666666666,\"#ed7953\"],[0.7777777777777778,\"#fb9f3a\"],[0.8888888888888888,\"#fdca26\"],[1.0,\"#f0f921\"]]}],\"heatmap\":[{\"type\":\"heatmap\",\"colorbar\":{\"outlinewidth\":0,\"ticks\":\"\"},\"colorscale\":[[0.0,\"#0d0887\"],[0.1111111111111111,\"#46039f\"],[0.2222222222222222,\"#7201a8\"],[0.3333333333333333,\"#9c179e\"],[0.4444444444444444,\"#bd3786\"],[0.5555555555555556,\"#d8576b\"],[0.6666666666666666,\"#ed7953\"],[0.7777777777777778,\"#fb9f3a\"],[0.8888888888888888,\"#fdca26\"],[1.0,\"#f0f921\"]]}],\"heatmapgl\":[{\"type\":\"heatmapgl\",\"colorbar\":{\"outlinewidth\":0,\"ticks\":\"\"},\"colorscale\":[[0.0,\"#0d0887\"],[0.1111111111111111,\"#46039f\"],[0.2222222222222222,\"#7201a8\"],[0.3333333333333333,\"#9c179e\"],[0.4444444444444444,\"#bd3786\"],[0.5555555555555556,\"#d8576b\"],[0.6666666666666666,\"#ed7953\"],[0.7777777777777778,\"#fb9f3a\"],[0.8888888888888888,\"#fdca26\"],[1.0,\"#f0f921\"]]}],\"contourcarpet\":[{\"type\":\"contourcarpet\",\"colorbar\":{\"outlinewidth\":0,\"ticks\":\"\"}}],\"contour\":[{\"type\":\"contour\",\"colorbar\":{\"outlinewidth\":0,\"ticks\":\"\"},\"colorscale\":[[0.0,\"#0d0887\"],[0.1111111111111111,\"#46039f\"],[0.2222222222222222,\"#7201a8\"],[0.3333333333333333,\"#9c179e\"],[0.4444444444444444,\"#bd3786\"],[0.5555555555555556,\"#d8576b\"],[0.6666666666666666,\"#ed7953\"],[0.7777777777777778,\"#fb9f3a\"],[0.8888888888888888,\"#fdca26\"],[1.0,\"#f0f921\"]]}],\"surface\":[{\"type\":\"surface\",\"colorbar\":{\"outlinewidth\":0,\"ticks\":\"\"},\"colorscale\":[[0.0,\"#0d0887\"],[0.1111111111111111,\"#46039f\"],[0.2222222222222222,\"#7201a8\"],[0.3333333333333333,\"#9c179e\"],[0.4444444444444444,\"#bd3786\"],[0.5555555555555556,\"#d8576b\"],[0.6666666666666666,\"#ed7953\"],[0.7777777777777778,\"#fb9f3a\"],[0.8888888888888888,\"#fdca26\"],[1.0,\"#f0f921\"]]}],\"mesh3d\":[{\"type\":\"mesh3d\",\"colorbar\":{\"outlinewidth\":0,\"ticks\":\"\"}}],\"scatter\":[{\"fillpattern\":{\"fillmode\":\"overlay\",\"size\":10,\"solidity\":0.2},\"type\":\"scatter\"}],\"parcoords\":[{\"type\":\"parcoords\",\"line\":{\"colorbar\":{\"outlinewidth\":0,\"ticks\":\"\"}}}],\"scatterpolargl\":[{\"type\":\"scatterpolargl\",\"marker\":{\"colorbar\":{\"outlinewidth\":0,\"ticks\":\"\"}}}],\"bar\":[{\"error_x\":{\"color\":\"#2a3f5f\"},\"error_y\":{\"color\":\"#2a3f5f\"},\"marker\":{\"line\":{\"color\":\"#E5ECF6\",\"width\":0.5},\"pattern\":{\"fillmode\":\"overlay\",\"size\":10,\"solidity\":0.2}},\"type\":\"bar\"}],\"scattergeo\":[{\"type\":\"scattergeo\",\"marker\":{\"colorbar\":{\"outlinewidth\":0,\"ticks\":\"\"}}}],\"scatterpolar\":[{\"type\":\"scatterpolar\",\"marker\":{\"colorbar\":{\"outlinewidth\":0,\"ticks\":\"\"}}}],\"histogram\":[{\"marker\":{\"pattern\":{\"fillmode\":\"overlay\",\"size\":10,\"solidity\":0.2}},\"type\":\"histogram\"}],\"scattergl\":[{\"type\":\"scattergl\",\"marker\":{\"colorbar\":{\"outlinewidth\":0,\"ticks\":\"\"}}}],\"scatter3d\":[{\"type\":\"scatter3d\",\"line\":{\"colorbar\":{\"outlinewidth\":0,\"ticks\":\"\"}},\"marker\":{\"colorbar\":{\"outlinewidth\":0,\"ticks\":\"\"}}}],\"scattermapbox\":[{\"type\":\"scattermapbox\",\"marker\":{\"colorbar\":{\"outlinewidth\":0,\"ticks\":\"\"}}}],\"scatterternary\":[{\"type\":\"scatterternary\",\"marker\":{\"colorbar\":{\"outlinewidth\":0,\"ticks\":\"\"}}}],\"scattercarpet\":[{\"type\":\"scattercarpet\",\"marker\":{\"colorbar\":{\"outlinewidth\":0,\"ticks\":\"\"}}}],\"carpet\":[{\"aaxis\":{\"endlinecolor\":\"#2a3f5f\",\"gridcolor\":\"white\",\"linecolor\":\"white\",\"minorgridcolor\":\"white\",\"startlinecolor\":\"#2a3f5f\"},\"baxis\":{\"endlinecolor\":\"#2a3f5f\",\"gridcolor\":\"white\",\"linecolor\":\"white\",\"minorgridcolor\":\"white\",\"startlinecolor\":\"#2a3f5f\"},\"type\":\"carpet\"}],\"table\":[{\"cells\":{\"fill\":{\"color\":\"#EBF0F8\"},\"line\":{\"color\":\"white\"}},\"header\":{\"fill\":{\"color\":\"#C8D4E3\"},\"line\":{\"color\":\"white\"}},\"type\":\"table\"}],\"barpolar\":[{\"marker\":{\"line\":{\"color\":\"#E5ECF6\",\"width\":0.5},\"pattern\":{\"fillmode\":\"overlay\",\"size\":10,\"solidity\":0.2}},\"type\":\"barpolar\"}],\"pie\":[{\"automargin\":true,\"type\":\"pie\"}]},\"layout\":{\"autotypenumbers\":\"strict\",\"colorway\":[\"#636efa\",\"#EF553B\",\"#00cc96\",\"#ab63fa\",\"#FFA15A\",\"#19d3f3\",\"#FF6692\",\"#B6E880\",\"#FF97FF\",\"#FECB52\"],\"font\":{\"color\":\"#2a3f5f\"},\"hovermode\":\"closest\",\"hoverlabel\":{\"align\":\"left\"},\"paper_bgcolor\":\"white\",\"plot_bgcolor\":\"#E5ECF6\",\"polar\":{\"bgcolor\":\"#E5ECF6\",\"angularaxis\":{\"gridcolor\":\"white\",\"linecolor\":\"white\",\"ticks\":\"\"},\"radialaxis\":{\"gridcolor\":\"white\",\"linecolor\":\"white\",\"ticks\":\"\"}},\"ternary\":{\"bgcolor\":\"#E5ECF6\",\"aaxis\":{\"gridcolor\":\"white\",\"linecolor\":\"white\",\"ticks\":\"\"},\"baxis\":{\"gridcolor\":\"white\",\"linecolor\":\"white\",\"ticks\":\"\"},\"caxis\":{\"gridcolor\":\"white\",\"linecolor\":\"white\",\"ticks\":\"\"}},\"coloraxis\":{\"colorbar\":{\"outlinewidth\":0,\"ticks\":\"\"}},\"colorscale\":{\"sequential\":[[0.0,\"#0d0887\"],[0.1111111111111111,\"#46039f\"],[0.2222222222222222,\"#7201a8\"],[0.3333333333333333,\"#9c179e\"],[0.4444444444444444,\"#bd3786\"],[0.5555555555555556,\"#d8576b\"],[0.6666666666666666,\"#ed7953\"],[0.7777777777777778,\"#fb9f3a\"],[0.8888888888888888,\"#fdca26\"],[1.0,\"#f0f921\"]],\"sequentialminus\":[[0.0,\"#0d0887\"],[0.1111111111111111,\"#46039f\"],[0.2222222222222222,\"#7201a8\"],[0.3333333333333333,\"#9c179e\"],[0.4444444444444444,\"#bd3786\"],[0.5555555555555556,\"#d8576b\"],[0.6666666666666666,\"#ed7953\"],[0.7777777777777778,\"#fb9f3a\"],[0.8888888888888888,\"#fdca26\"],[1.0,\"#f0f921\"]],\"diverging\":[[0,\"#8e0152\"],[0.1,\"#c51b7d\"],[0.2,\"#de77ae\"],[0.3,\"#f1b6da\"],[0.4,\"#fde0ef\"],[0.5,\"#f7f7f7\"],[0.6,\"#e6f5d0\"],[0.7,\"#b8e186\"],[0.8,\"#7fbc41\"],[0.9,\"#4d9221\"],[1,\"#276419\"]]},\"xaxis\":{\"gridcolor\":\"white\",\"linecolor\":\"white\",\"ticks\":\"\",\"title\":{\"standoff\":15},\"zerolinecolor\":\"white\",\"automargin\":true,\"zerolinewidth\":2},\"yaxis\":{\"gridcolor\":\"white\",\"linecolor\":\"white\",\"ticks\":\"\",\"title\":{\"standoff\":15},\"zerolinecolor\":\"white\",\"automargin\":true,\"zerolinewidth\":2},\"scene\":{\"xaxis\":{\"backgroundcolor\":\"#E5ECF6\",\"gridcolor\":\"white\",\"linecolor\":\"white\",\"showbackground\":true,\"ticks\":\"\",\"zerolinecolor\":\"white\",\"gridwidth\":2},\"yaxis\":{\"backgroundcolor\":\"#E5ECF6\",\"gridcolor\":\"white\",\"linecolor\":\"white\",\"showbackground\":true,\"ticks\":\"\",\"zerolinecolor\":\"white\",\"gridwidth\":2},\"zaxis\":{\"backgroundcolor\":\"#E5ECF6\",\"gridcolor\":\"white\",\"linecolor\":\"white\",\"showbackground\":true,\"ticks\":\"\",\"zerolinecolor\":\"white\",\"gridwidth\":2}},\"shapedefaults\":{\"line\":{\"color\":\"#2a3f5f\"}},\"annotationdefaults\":{\"arrowcolor\":\"#2a3f5f\",\"arrowhead\":0,\"arrowwidth\":1},\"geo\":{\"bgcolor\":\"white\",\"landcolor\":\"#E5ECF6\",\"subunitcolor\":\"white\",\"showland\":true,\"showlakes\":true,\"lakecolor\":\"white\"},\"title\":{\"x\":0.05},\"mapbox\":{\"style\":\"light\"}}},\"xaxis\":{\"anchor\":\"y\",\"domain\":[0.0,1.0],\"title\":{\"text\":\"All Cases\"},\"type\":\"log\",\"range\":[0.0,5.70841580075665]},\"yaxis\":{\"anchor\":\"x\",\"domain\":[0.0,1.0],\"title\":{\"text\":\"New Cases\"},\"type\":\"log\",\"range\":[0.0,5.395591956773433]},\"legend\":{\"tracegroupgap\":0},\"margin\":{\"t\":60},\"updatemenus\":[{\"buttons\":[{\"args\":[null,{\"frame\":{\"duration\":500,\"redraw\":false},\"mode\":\"immediate\",\"fromcurrent\":true,\"transition\":{\"duration\":500,\"easing\":\"linear\"}}],\"label\":\"&#9654;\",\"method\":\"animate\"},{\"args\":[[null],{\"frame\":{\"duration\":0,\"redraw\":false},\"mode\":\"immediate\",\"fromcurrent\":true,\"transition\":{\"duration\":0,\"easing\":\"linear\"}}],\"label\":\"&#9724;\",\"method\":\"animate\"}],\"direction\":\"left\",\"pad\":{\"r\":10,\"t\":70},\"showactive\":false,\"type\":\"buttons\",\"x\":0.1,\"xanchor\":\"right\",\"y\":0,\"yanchor\":\"top\"}],\"sliders\":[{\"active\":0,\"currentvalue\":{\"prefix\":\"Day=\"},\"len\":0.9,\"pad\":{\"b\":10,\"t\":60},\"steps\":[{\"args\":[[\"2022-03-06\"],{\"frame\":{\"duration\":0,\"redraw\":false},\"mode\":\"immediate\",\"fromcurrent\":true,\"transition\":{\"duration\":0,\"easing\":\"linear\"}}],\"label\":\"2022-03-06\",\"method\":\"animate\"},{\"args\":[[\"2022-03-07\"],{\"frame\":{\"duration\":0,\"redraw\":false},\"mode\":\"immediate\",\"fromcurrent\":true,\"transition\":{\"duration\":0,\"easing\":\"linear\"}}],\"label\":\"2022-03-07\",\"method\":\"animate\"},{\"args\":[[\"2022-03-08\"],{\"frame\":{\"duration\":0,\"redraw\":false},\"mode\":\"immediate\",\"fromcurrent\":true,\"transition\":{\"duration\":0,\"easing\":\"linear\"}}],\"label\":\"2022-03-08\",\"method\":\"animate\"},{\"args\":[[\"2022-03-09\"],{\"frame\":{\"duration\":0,\"redraw\":false},\"mode\":\"immediate\",\"fromcurrent\":true,\"transition\":{\"duration\":0,\"easing\":\"linear\"}}],\"label\":\"2022-03-09\",\"method\":\"animate\"},{\"args\":[[\"2022-03-10\"],{\"frame\":{\"duration\":0,\"redraw\":false},\"mode\":\"immediate\",\"fromcurrent\":true,\"transition\":{\"duration\":0,\"easing\":\"linear\"}}],\"label\":\"2022-03-10\",\"method\":\"animate\"},{\"args\":[[\"2022-03-11\"],{\"frame\":{\"duration\":0,\"redraw\":false},\"mode\":\"immediate\",\"fromcurrent\":true,\"transition\":{\"duration\":0,\"easing\":\"linear\"}}],\"label\":\"2022-03-11\",\"method\":\"animate\"},{\"args\":[[\"2022-03-12\"],{\"frame\":{\"duration\":0,\"redraw\":false},\"mode\":\"immediate\",\"fromcurrent\":true,\"transition\":{\"duration\":0,\"easing\":\"linear\"}}],\"label\":\"2022-03-12\",\"method\":\"animate\"},{\"args\":[[\"2022-03-13\"],{\"frame\":{\"duration\":0,\"redraw\":false},\"mode\":\"immediate\",\"fromcurrent\":true,\"transition\":{\"duration\":0,\"easing\":\"linear\"}}],\"label\":\"2022-03-13\",\"method\":\"animate\"},{\"args\":[[\"2022-03-14\"],{\"frame\":{\"duration\":0,\"redraw\":false},\"mode\":\"immediate\",\"fromcurrent\":true,\"transition\":{\"duration\":0,\"easing\":\"linear\"}}],\"label\":\"2022-03-14\",\"method\":\"animate\"},{\"args\":[[\"2022-03-15\"],{\"frame\":{\"duration\":0,\"redraw\":false},\"mode\":\"immediate\",\"fromcurrent\":true,\"transition\":{\"duration\":0,\"easing\":\"linear\"}}],\"label\":\"2022-03-15\",\"method\":\"animate\"},{\"args\":[[\"2022-03-17\"],{\"frame\":{\"duration\":0,\"redraw\":false},\"mode\":\"immediate\",\"fromcurrent\":true,\"transition\":{\"duration\":0,\"easing\":\"linear\"}}],\"label\":\"2022-03-17\",\"method\":\"animate\"},{\"args\":[[\"2022-03-19\"],{\"frame\":{\"duration\":0,\"redraw\":false},\"mode\":\"immediate\",\"fromcurrent\":true,\"transition\":{\"duration\":0,\"easing\":\"linear\"}}],\"label\":\"2022-03-19\",\"method\":\"animate\"},{\"args\":[[\"2022-03-20\"],{\"frame\":{\"duration\":0,\"redraw\":false},\"mode\":\"immediate\",\"fromcurrent\":true,\"transition\":{\"duration\":0,\"easing\":\"linear\"}}],\"label\":\"2022-03-20\",\"method\":\"animate\"},{\"args\":[[\"2022-03-21\"],{\"frame\":{\"duration\":0,\"redraw\":false},\"mode\":\"immediate\",\"fromcurrent\":true,\"transition\":{\"duration\":0,\"easing\":\"linear\"}}],\"label\":\"2022-03-21\",\"method\":\"animate\"},{\"args\":[[\"2022-03-22\"],{\"frame\":{\"duration\":0,\"redraw\":false},\"mode\":\"immediate\",\"fromcurrent\":true,\"transition\":{\"duration\":0,\"easing\":\"linear\"}}],\"label\":\"2022-03-22\",\"method\":\"animate\"},{\"args\":[[\"2022-03-23\"],{\"frame\":{\"duration\":0,\"redraw\":false},\"mode\":\"immediate\",\"fromcurrent\":true,\"transition\":{\"duration\":0,\"easing\":\"linear\"}}],\"label\":\"2022-03-23\",\"method\":\"animate\"},{\"args\":[[\"2022-03-24\"],{\"frame\":{\"duration\":0,\"redraw\":false},\"mode\":\"immediate\",\"fromcurrent\":true,\"transition\":{\"duration\":0,\"easing\":\"linear\"}}],\"label\":\"2022-03-24\",\"method\":\"animate\"},{\"args\":[[\"2022-03-25\"],{\"frame\":{\"duration\":0,\"redraw\":false},\"mode\":\"immediate\",\"fromcurrent\":true,\"transition\":{\"duration\":0,\"easing\":\"linear\"}}],\"label\":\"2022-03-25\",\"method\":\"animate\"},{\"args\":[[\"2022-03-26\"],{\"frame\":{\"duration\":0,\"redraw\":false},\"mode\":\"immediate\",\"fromcurrent\":true,\"transition\":{\"duration\":0,\"easing\":\"linear\"}}],\"label\":\"2022-03-26\",\"method\":\"animate\"},{\"args\":[[\"2022-03-27\"],{\"frame\":{\"duration\":0,\"redraw\":false},\"mode\":\"immediate\",\"fromcurrent\":true,\"transition\":{\"duration\":0,\"easing\":\"linear\"}}],\"label\":\"2022-03-27\",\"method\":\"animate\"},{\"args\":[[\"2022-03-28\"],{\"frame\":{\"duration\":0,\"redraw\":false},\"mode\":\"immediate\",\"fromcurrent\":true,\"transition\":{\"duration\":0,\"easing\":\"linear\"}}],\"label\":\"2022-03-28\",\"method\":\"animate\"},{\"args\":[[\"2022-03-29\"],{\"frame\":{\"duration\":0,\"redraw\":false},\"mode\":\"immediate\",\"fromcurrent\":true,\"transition\":{\"duration\":0,\"easing\":\"linear\"}}],\"label\":\"2022-03-29\",\"method\":\"animate\"},{\"args\":[[\"2022-03-30\"],{\"frame\":{\"duration\":0,\"redraw\":false},\"mode\":\"immediate\",\"fromcurrent\":true,\"transition\":{\"duration\":0,\"easing\":\"linear\"}}],\"label\":\"2022-03-30\",\"method\":\"animate\"},{\"args\":[[\"2022-03-31\"],{\"frame\":{\"duration\":0,\"redraw\":false},\"mode\":\"immediate\",\"fromcurrent\":true,\"transition\":{\"duration\":0,\"easing\":\"linear\"}}],\"label\":\"2022-03-31\",\"method\":\"animate\"},{\"args\":[[\"2022-04-01\"],{\"frame\":{\"duration\":0,\"redraw\":false},\"mode\":\"immediate\",\"fromcurrent\":true,\"transition\":{\"duration\":0,\"easing\":\"linear\"}}],\"label\":\"2022-04-01\",\"method\":\"animate\"},{\"args\":[[\"2022-04-02\"],{\"frame\":{\"duration\":0,\"redraw\":false},\"mode\":\"immediate\",\"fromcurrent\":true,\"transition\":{\"duration\":0,\"easing\":\"linear\"}}],\"label\":\"2022-04-02\",\"method\":\"animate\"},{\"args\":[[\"2022-04-03\"],{\"frame\":{\"duration\":0,\"redraw\":false},\"mode\":\"immediate\",\"fromcurrent\":true,\"transition\":{\"duration\":0,\"easing\":\"linear\"}}],\"label\":\"2022-04-03\",\"method\":\"animate\"},{\"args\":[[\"2022-04-04\"],{\"frame\":{\"duration\":0,\"redraw\":false},\"mode\":\"immediate\",\"fromcurrent\":true,\"transition\":{\"duration\":0,\"easing\":\"linear\"}}],\"label\":\"2022-04-04\",\"method\":\"animate\"},{\"args\":[[\"2022-04-05\"],{\"frame\":{\"duration\":0,\"redraw\":false},\"mode\":\"immediate\",\"fromcurrent\":true,\"transition\":{\"duration\":0,\"easing\":\"linear\"}}],\"label\":\"2022-04-05\",\"method\":\"animate\"},{\"args\":[[\"2022-04-06\"],{\"frame\":{\"duration\":0,\"redraw\":false},\"mode\":\"immediate\",\"fromcurrent\":true,\"transition\":{\"duration\":0,\"easing\":\"linear\"}}],\"label\":\"2022-04-06\",\"method\":\"animate\"},{\"args\":[[\"2022-04-07\"],{\"frame\":{\"duration\":0,\"redraw\":false},\"mode\":\"immediate\",\"fromcurrent\":true,\"transition\":{\"duration\":0,\"easing\":\"linear\"}}],\"label\":\"2022-04-07\",\"method\":\"animate\"},{\"args\":[[\"2022-04-08\"],{\"frame\":{\"duration\":0,\"redraw\":false},\"mode\":\"immediate\",\"fromcurrent\":true,\"transition\":{\"duration\":0,\"easing\":\"linear\"}}],\"label\":\"2022-04-08\",\"method\":\"animate\"},{\"args\":[[\"2022-04-09\"],{\"frame\":{\"duration\":0,\"redraw\":false},\"mode\":\"immediate\",\"fromcurrent\":true,\"transition\":{\"duration\":0,\"easing\":\"linear\"}}],\"label\":\"2022-04-09\",\"method\":\"animate\"},{\"args\":[[\"2022-04-10\"],{\"frame\":{\"duration\":0,\"redraw\":false},\"mode\":\"immediate\",\"fromcurrent\":true,\"transition\":{\"duration\":0,\"easing\":\"linear\"}}],\"label\":\"2022-04-10\",\"method\":\"animate\"},{\"args\":[[\"2022-04-11\"],{\"frame\":{\"duration\":0,\"redraw\":false},\"mode\":\"immediate\",\"fromcurrent\":true,\"transition\":{\"duration\":0,\"easing\":\"linear\"}}],\"label\":\"2022-04-11\",\"method\":\"animate\"},{\"args\":[[\"2022-04-12\"],{\"frame\":{\"duration\":0,\"redraw\":false},\"mode\":\"immediate\",\"fromcurrent\":true,\"transition\":{\"duration\":0,\"easing\":\"linear\"}}],\"label\":\"2022-04-12\",\"method\":\"animate\"}],\"x\":0.1,\"xanchor\":\"left\",\"y\":0,\"yanchor\":\"top\"}],\"shapes\":[{\"line\":{\"color\":\"rgba(100, 100, 255, 0.5)\"},\"type\":\"line\",\"x0\":0,\"x1\":1,\"xref\":\"paper\",\"y0\":0,\"y1\":1,\"yref\":\"paper\"}]},                        {\"responsive\": true}                    ).then(function(){\n",
       "                            Plotly.addFrames('6a9afe64-268d-42c1-be6c-7ede5e3a8e33', [{\"data\":[{\"hovertemplate\":\"Day=2022-03-06<br>All Cases=%{x}<br>New Cases=%{y}<extra></extra>\",\"legendgroup\":\"\",\"marker\":{\"color\":\"red\",\"symbol\":\"circle\"},\"mode\":\"markers\",\"name\":\"\",\"orientation\":\"v\",\"showlegend\":false,\"x\":[113],\"xaxis\":\"x\",\"y\":[113.0],\"yaxis\":\"y\",\"type\":\"scatter\"}],\"name\":\"2022-03-06\"},{\"data\":[{\"hovertemplate\":\"Day=2022-03-07<br>All Cases=%{x}<br>New Cases=%{y}<extra></extra>\",\"legendgroup\":\"\",\"marker\":{\"color\":\"red\",\"symbol\":\"circle\"},\"mode\":\"markers\",\"name\":\"\",\"orientation\":\"v\",\"showlegend\":false,\"x\":[168],\"xaxis\":\"x\",\"y\":[166.0],\"yaxis\":\"y\",\"type\":\"scatter\"}],\"name\":\"2022-03-07\"},{\"data\":[{\"hovertemplate\":\"Day=2022-03-08<br>All Cases=%{x}<br>New Cases=%{y}<extra></extra>\",\"legendgroup\":\"\",\"marker\":{\"color\":\"red\",\"symbol\":\"circle\"},\"mode\":\"markers\",\"name\":\"\",\"orientation\":\"v\",\"showlegend\":false,\"x\":[233],\"xaxis\":\"x\",\"y\":[215.0],\"yaxis\":\"y\",\"type\":\"scatter\"}],\"name\":\"2022-03-08\"},{\"data\":[{\"hovertemplate\":\"Day=2022-03-09<br>All Cases=%{x}<br>New Cases=%{y}<extra></extra>\",\"legendgroup\":\"\",\"marker\":{\"color\":\"red\",\"symbol\":\"circle\"},\"mode\":\"markers\",\"name\":\"\",\"orientation\":\"v\",\"showlegend\":false,\"x\":[313],\"xaxis\":\"x\",\"y\":[276.0],\"yaxis\":\"y\",\"type\":\"scatter\"}],\"name\":\"2022-03-09\"},{\"data\":[{\"hovertemplate\":\"Day=2022-03-10<br>All Cases=%{x}<br>New Cases=%{y}<extra></extra>\",\"legendgroup\":\"\",\"marker\":{\"color\":\"red\",\"symbol\":\"circle\"},\"mode\":\"markers\",\"name\":\"\",\"orientation\":\"v\",\"showlegend\":false,\"x\":[388],\"xaxis\":\"x\",\"y\":[323.0],\"yaxis\":\"y\",\"type\":\"scatter\"}],\"name\":\"2022-03-10\"},{\"data\":[{\"hovertemplate\":\"Day=2022-03-11<br>All Cases=%{x}<br>New Cases=%{y}<extra></extra>\",\"legendgroup\":\"\",\"marker\":{\"color\":\"red\",\"symbol\":\"circle\"},\"mode\":\"markers\",\"name\":\"\",\"orientation\":\"v\",\"showlegend\":false,\"x\":[471],\"xaxis\":\"x\",\"y\":[358.0],\"yaxis\":\"y\",\"type\":\"scatter\"}],\"name\":\"2022-03-11\"},{\"data\":[{\"hovertemplate\":\"Day=2022-03-12<br>All Cases=%{x}<br>New Cases=%{y}<extra></extra>\",\"legendgroup\":\"\",\"marker\":{\"color\":\"red\",\"symbol\":\"circle\"},\"mode\":\"markers\",\"name\":\"\",\"orientation\":\"v\",\"showlegend\":false,\"x\":[536],\"xaxis\":\"x\",\"y\":[368.0],\"yaxis\":\"y\",\"type\":\"scatter\"}],\"name\":\"2022-03-12\"},{\"data\":[{\"hovertemplate\":\"Day=2022-03-13<br>All Cases=%{x}<br>New Cases=%{y}<extra></extra>\",\"legendgroup\":\"\",\"marker\":{\"color\":\"red\",\"symbol\":\"circle\"},\"mode\":\"markers\",\"name\":\"\",\"orientation\":\"v\",\"showlegend\":false,\"x\":[597],\"xaxis\":\"x\",\"y\":[364.0],\"yaxis\":\"y\",\"type\":\"scatter\"}],\"name\":\"2022-03-13\"},{\"data\":[{\"hovertemplate\":\"Day=2022-03-14<br>All Cases=%{x}<br>New Cases=%{y}<extra></extra>\",\"legendgroup\":\"\",\"marker\":{\"color\":\"red\",\"symbol\":\"circle\"},\"mode\":\"markers\",\"name\":\"\",\"orientation\":\"v\",\"showlegend\":false,\"x\":[736],\"xaxis\":\"x\",\"y\":[423.0],\"yaxis\":\"y\",\"type\":\"scatter\"}],\"name\":\"2022-03-14\"},{\"data\":[{\"hovertemplate\":\"Day=2022-03-15<br>All Cases=%{x}<br>New Cases=%{y}<extra></extra>\",\"legendgroup\":\"\",\"marker\":{\"color\":\"red\",\"symbol\":\"circle\"},\"mode\":\"markers\",\"name\":\"\",\"orientation\":\"v\",\"showlegend\":false,\"x\":[938],\"xaxis\":\"x\",\"y\":[550.0],\"yaxis\":\"y\",\"type\":\"scatter\"}],\"name\":\"2022-03-15\"},{\"data\":[{\"hovertemplate\":\"Day=2022-03-17<br>All Cases=%{x}<br>New Cases=%{y}<extra></extra>\",\"legendgroup\":\"\",\"marker\":{\"color\":\"red\",\"symbol\":\"circle\"},\"mode\":\"markers\",\"name\":\"\",\"orientation\":\"v\",\"showlegend\":false,\"x\":[1198],\"xaxis\":\"x\",\"y\":[727.0],\"yaxis\":\"y\",\"type\":\"scatter\"}],\"name\":\"2022-03-17\"},{\"data\":[{\"hovertemplate\":\"Day=2022-03-19<br>All Cases=%{x}<br>New Cases=%{y}<extra></extra>\",\"legendgroup\":\"\",\"marker\":{\"color\":\"red\",\"symbol\":\"circle\"},\"mode\":\"markers\",\"name\":\"\",\"orientation\":\"v\",\"showlegend\":false,\"x\":[1707],\"xaxis\":\"x\",\"y\":[1171.0],\"yaxis\":\"y\",\"type\":\"scatter\"}],\"name\":\"2022-03-19\"},{\"data\":[{\"hovertemplate\":\"Day=2022-03-20<br>All Cases=%{x}<br>New Cases=%{y}<extra></extra>\",\"legendgroup\":\"\",\"marker\":{\"color\":\"red\",\"symbol\":\"circle\"},\"mode\":\"markers\",\"name\":\"\",\"orientation\":\"v\",\"showlegend\":false,\"x\":[2465],\"xaxis\":\"x\",\"y\":[1868.0],\"yaxis\":\"y\",\"type\":\"scatter\"}],\"name\":\"2022-03-20\"},{\"data\":[{\"hovertemplate\":\"Day=2022-03-21<br>All Cases=%{x}<br>New Cases=%{y}<extra></extra>\",\"legendgroup\":\"\",\"marker\":{\"color\":\"red\",\"symbol\":\"circle\"},\"mode\":\"markers\",\"name\":\"\",\"orientation\":\"v\",\"showlegend\":false,\"x\":[3361],\"xaxis\":\"x\",\"y\":[2625.0],\"yaxis\":\"y\",\"type\":\"scatter\"}],\"name\":\"2022-03-21\"},{\"data\":[{\"hovertemplate\":\"Day=2022-03-22<br>All Cases=%{x}<br>New Cases=%{y}<extra></extra>\",\"legendgroup\":\"\",\"marker\":{\"color\":\"red\",\"symbol\":\"circle\"},\"mode\":\"markers\",\"name\":\"\",\"orientation\":\"v\",\"showlegend\":false,\"x\":[4342],\"xaxis\":\"x\",\"y\":[3404.0],\"yaxis\":\"y\",\"type\":\"scatter\"}],\"name\":\"2022-03-22\"},{\"data\":[{\"hovertemplate\":\"Day=2022-03-23<br>All Cases=%{x}<br>New Cases=%{y}<extra></extra>\",\"legendgroup\":\"\",\"marker\":{\"color\":\"red\",\"symbol\":\"circle\"},\"mode\":\"markers\",\"name\":\"\",\"orientation\":\"v\",\"showlegend\":false,\"x\":[5325],\"xaxis\":\"x\",\"y\":[4127.0],\"yaxis\":\"y\",\"type\":\"scatter\"}],\"name\":\"2022-03-23\"},{\"data\":[{\"hovertemplate\":\"Day=2022-03-24<br>All Cases=%{x}<br>New Cases=%{y}<extra></extra>\",\"legendgroup\":\"\",\"marker\":{\"color\":\"red\",\"symbol\":\"circle\"},\"mode\":\"markers\",\"name\":\"\",\"orientation\":\"v\",\"showlegend\":false,\"x\":[6934],\"xaxis\":\"x\",\"y\":[5227.0],\"yaxis\":\"y\",\"type\":\"scatter\"}],\"name\":\"2022-03-24\"},{\"data\":[{\"hovertemplate\":\"Day=2022-03-25<br>All Cases=%{x}<br>New Cases=%{y}<extra></extra>\",\"legendgroup\":\"\",\"marker\":{\"color\":\"red\",\"symbol\":\"circle\"},\"mode\":\"markers\",\"name\":\"\",\"orientation\":\"v\",\"showlegend\":false,\"x\":[9203],\"xaxis\":\"x\",\"y\":[6738.0],\"yaxis\":\"y\",\"type\":\"scatter\"}],\"name\":\"2022-03-25\"},{\"data\":[{\"hovertemplate\":\"Day=2022-03-26<br>All Cases=%{x}<br>New Cases=%{y}<extra></extra>\",\"legendgroup\":\"\",\"marker\":{\"color\":\"red\",\"symbol\":\"circle\"},\"mode\":\"markers\",\"name\":\"\",\"orientation\":\"v\",\"showlegend\":false,\"x\":[11879],\"xaxis\":\"x\",\"y\":[8518.0],\"yaxis\":\"y\",\"type\":\"scatter\"}],\"name\":\"2022-03-26\"},{\"data\":[{\"hovertemplate\":\"Day=2022-03-27<br>All Cases=%{x}<br>New Cases=%{y}<extra></extra>\",\"legendgroup\":\"\",\"marker\":{\"color\":\"red\",\"symbol\":\"circle\"},\"mode\":\"markers\",\"name\":\"\",\"orientation\":\"v\",\"showlegend\":false,\"x\":[15379],\"xaxis\":\"x\",\"y\":[11037.0],\"yaxis\":\"y\",\"type\":\"scatter\"}],\"name\":\"2022-03-27\"},{\"data\":[{\"hovertemplate\":\"Day=2022-03-28<br>All Cases=%{x}<br>New Cases=%{y}<extra></extra>\",\"legendgroup\":\"\",\"marker\":{\"color\":\"red\",\"symbol\":\"circle\"},\"mode\":\"markers\",\"name\":\"\",\"orientation\":\"v\",\"showlegend\":false,\"x\":[19856],\"xaxis\":\"x\",\"y\":[14531.0],\"yaxis\":\"y\",\"type\":\"scatter\"}],\"name\":\"2022-03-28\"},{\"data\":[{\"hovertemplate\":\"Day=2022-03-29<br>All Cases=%{x}<br>New Cases=%{y}<extra></extra>\",\"legendgroup\":\"\",\"marker\":{\"color\":\"red\",\"symbol\":\"circle\"},\"mode\":\"markers\",\"name\":\"\",\"orientation\":\"v\",\"showlegend\":false,\"x\":[25838],\"xaxis\":\"x\",\"y\":[18904.0],\"yaxis\":\"y\",\"type\":\"scatter\"}],\"name\":\"2022-03-29\"},{\"data\":[{\"hovertemplate\":\"Day=2022-03-30<br>All Cases=%{x}<br>New Cases=%{y}<extra></extra>\",\"legendgroup\":\"\",\"marker\":{\"color\":\"red\",\"symbol\":\"circle\"},\"mode\":\"markers\",\"name\":\"\",\"orientation\":\"v\",\"showlegend\":false,\"x\":[31491],\"xaxis\":\"x\",\"y\":[22288.0],\"yaxis\":\"y\",\"type\":\"scatter\"}],\"name\":\"2022-03-30\"},{\"data\":[{\"hovertemplate\":\"Day=2022-03-31<br>All Cases=%{x}<br>New Cases=%{y}<extra></extra>\",\"legendgroup\":\"\",\"marker\":{\"color\":\"red\",\"symbol\":\"circle\"},\"mode\":\"markers\",\"name\":\"\",\"orientation\":\"v\",\"showlegend\":false,\"x\":[35993],\"xaxis\":\"x\",\"y\":[24114.0],\"yaxis\":\"y\",\"type\":\"scatter\"}],\"name\":\"2022-03-31\"},{\"data\":[{\"hovertemplate\":\"Day=2022-04-01<br>All Cases=%{x}<br>New Cases=%{y}<extra></extra>\",\"legendgroup\":\"\",\"marker\":{\"color\":\"red\",\"symbol\":\"circle\"},\"mode\":\"markers\",\"name\":\"\",\"orientation\":\"v\",\"showlegend\":false,\"x\":[42304],\"xaxis\":\"x\",\"y\":[26925.0],\"yaxis\":\"y\",\"type\":\"scatter\"}],\"name\":\"2022-04-01\"},{\"data\":[{\"hovertemplate\":\"Day=2022-04-02<br>All Cases=%{x}<br>New Cases=%{y}<extra></extra>\",\"legendgroup\":\"\",\"marker\":{\"color\":\"red\",\"symbol\":\"circle\"},\"mode\":\"markers\",\"name\":\"\",\"orientation\":\"v\",\"showlegend\":false,\"x\":[50530],\"xaxis\":\"x\",\"y\":[30674.0],\"yaxis\":\"y\",\"type\":\"scatter\"}],\"name\":\"2022-04-02\"},{\"data\":[{\"hovertemplate\":\"Day=2022-04-03<br>All Cases=%{x}<br>New Cases=%{y}<extra></extra>\",\"legendgroup\":\"\",\"marker\":{\"color\":\"red\",\"symbol\":\"circle\"},\"mode\":\"markers\",\"name\":\"\",\"orientation\":\"v\",\"showlegend\":false,\"x\":[59536],\"xaxis\":\"x\",\"y\":[33698.0],\"yaxis\":\"y\",\"type\":\"scatter\"}],\"name\":\"2022-04-03\"},{\"data\":[{\"hovertemplate\":\"Day=2022-04-04<br>All Cases=%{x}<br>New Cases=%{y}<extra></extra>\",\"legendgroup\":\"\",\"marker\":{\"color\":\"red\",\"symbol\":\"circle\"},\"mode\":\"markers\",\"name\":\"\",\"orientation\":\"v\",\"showlegend\":false,\"x\":[72890],\"xaxis\":\"x\",\"y\":[41399.0],\"yaxis\":\"y\",\"type\":\"scatter\"}],\"name\":\"2022-04-04\"},{\"data\":[{\"hovertemplate\":\"Day=2022-04-05<br>All Cases=%{x}<br>New Cases=%{y}<extra></extra>\",\"legendgroup\":\"\",\"marker\":{\"color\":\"red\",\"symbol\":\"circle\"},\"mode\":\"markers\",\"name\":\"\",\"orientation\":\"v\",\"showlegend\":false,\"x\":[89967],\"xaxis\":\"x\",\"y\":[53974.0],\"yaxis\":\"y\",\"type\":\"scatter\"}],\"name\":\"2022-04-05\"},{\"data\":[{\"hovertemplate\":\"Day=2022-04-06<br>All Cases=%{x}<br>New Cases=%{y}<extra></extra>\",\"legendgroup\":\"\",\"marker\":{\"color\":\"red\",\"symbol\":\"circle\"},\"mode\":\"markers\",\"name\":\"\",\"orientation\":\"v\",\"showlegend\":false,\"x\":[109949],\"xaxis\":\"x\",\"y\":[67645.0],\"yaxis\":\"y\",\"type\":\"scatter\"}],\"name\":\"2022-04-06\"},{\"data\":[{\"hovertemplate\":\"Day=2022-04-07<br>All Cases=%{x}<br>New Cases=%{y}<extra></extra>\",\"legendgroup\":\"\",\"marker\":{\"color\":\"red\",\"symbol\":\"circle\"},\"mode\":\"markers\",\"name\":\"\",\"orientation\":\"v\",\"showlegend\":false,\"x\":[131171],\"xaxis\":\"x\",\"y\":[80641.0],\"yaxis\":\"y\",\"type\":\"scatter\"}],\"name\":\"2022-04-07\"},{\"data\":[{\"hovertemplate\":\"Day=2022-04-08<br>All Cases=%{x}<br>New Cases=%{y}<extra></extra>\",\"legendgroup\":\"\",\"marker\":{\"color\":\"red\",\"symbol\":\"circle\"},\"mode\":\"markers\",\"name\":\"\",\"orientation\":\"v\",\"showlegend\":false,\"x\":[154795],\"xaxis\":\"x\",\"y\":[95259.0],\"yaxis\":\"y\",\"type\":\"scatter\"}],\"name\":\"2022-04-08\"},{\"data\":[{\"hovertemplate\":\"Day=2022-04-09<br>All Cases=%{x}<br>New Cases=%{y}<extra></extra>\",\"legendgroup\":\"\",\"marker\":{\"color\":\"red\",\"symbol\":\"circle\"},\"mode\":\"markers\",\"name\":\"\",\"orientation\":\"v\",\"showlegend\":false,\"x\":[179738],\"xaxis\":\"x\",\"y\":[106848.0],\"yaxis\":\"y\",\"type\":\"scatter\"}],\"name\":\"2022-04-09\"},{\"data\":[{\"hovertemplate\":\"Day=2022-04-10<br>All Cases=%{x}<br>New Cases=%{y}<extra></extra>\",\"legendgroup\":\"\",\"marker\":{\"color\":\"red\",\"symbol\":\"circle\"},\"mode\":\"markers\",\"name\":\"\",\"orientation\":\"v\",\"showlegend\":false,\"x\":[205825],\"xaxis\":\"x\",\"y\":[115858.0],\"yaxis\":\"y\",\"type\":\"scatter\"}],\"name\":\"2022-04-10\"},{\"data\":[{\"hovertemplate\":\"Day=2022-04-11<br>All Cases=%{x}<br>New Cases=%{y}<extra></extra>\",\"legendgroup\":\"\",\"marker\":{\"color\":\"red\",\"symbol\":\"circle\"},\"mode\":\"markers\",\"name\":\"\",\"orientation\":\"v\",\"showlegend\":false,\"x\":[229167],\"xaxis\":\"x\",\"y\":[119218.0],\"yaxis\":\"y\",\"type\":\"scatter\"}],\"name\":\"2022-04-11\"},{\"data\":[{\"hovertemplate\":\"Day=2022-04-12<br>All Cases=%{x}<br>New Cases=%{y}<extra></extra>\",\"legendgroup\":\"\",\"marker\":{\"color\":\"red\",\"symbol\":\"circle\"},\"mode\":\"markers\",\"name\":\"\",\"orientation\":\"v\",\"showlegend\":false,\"x\":[255497],\"xaxis\":\"x\",\"y\":[124326.0],\"yaxis\":\"y\",\"type\":\"scatter\"}],\"name\":\"2022-04-12\"}]);\n",
       "                        }).then(function(){\n",
       "                            \n",
       "var gd = document.getElementById('6a9afe64-268d-42c1-be6c-7ede5e3a8e33');\n",
       "var x = new MutationObserver(function (mutations, observer) {{\n",
       "        var display = window.getComputedStyle(gd).display;\n",
       "        if (!display || display === 'none') {{\n",
       "            console.log([gd, 'removed!']);\n",
       "            Plotly.purge(gd);\n",
       "            observer.disconnect();\n",
       "        }}\n",
       "}});\n",
       "\n",
       "// Listen for the removal of the full notebook cells\n",
       "var notebookContainer = gd.closest('#notebook-container');\n",
       "if (notebookContainer) {{\n",
       "    x.observe(notebookContainer, {childList: true});\n",
       "}}\n",
       "\n",
       "// Listen for the clearing of the current output cell\n",
       "var outputEl = gd.closest('.output');\n",
       "if (outputEl) {{\n",
       "    x.observe(outputEl, {childList: true});\n",
       "}}\n",
       "\n",
       "                        })                };                });            </script>        </div>"
      ]
     },
     "metadata": {},
     "output_type": "display_data"
    }
   ],
   "source": [
    "import plotly.express as px\n",
    "import plotly.graph_objects as go\n",
    "\n",
    "X_AXIS = \"All Cases\"\n",
    "Y_AXIS = \"New Cases\"\n",
    "\n",
    "fig = px.scatter(vis, x=X_AXIS, y=Y_AXIS, \n",
    "                 animation_frame=\"Day\",\n",
    "                 range_x=[1, vis[X_AXIS].max() * 2], \n",
    "                 range_y=[1, vis[Y_AXIS].max() * 2], \n",
    "                 log_x=True, log_y=True,\n",
    "                 color_discrete_sequence=['red'])\n",
    "\n",
    "fig.update_layout(shapes = [{\n",
    "    'type': 'line', \n",
    "    'yref': 'paper', \n",
    "    'xref': 'paper', \n",
    "    'y0': 0, 'y1': 1, \n",
    "    'x0': 0, 'x1': 1,\n",
    "    'line': {\n",
    "        'color': 'rgba(100, 100, 255, 0.5)'\n",
    "    }\n",
    "}])\n",
    "fig.add_trace(go.Scatter(\n",
    "    x=vis['All Cases'], \n",
    "    y=vis['New Cases'], \n",
    "    text=vis['Day'],\n",
    "    mode='markers+lines+text',\n",
    "    textposition=\"top left\",\n",
    "    textfont=dict(size=4),\n",
    "    name=\"Shanghai\"\n",
    "))\n",
    "fig.write_html(\"index.html\")\n",
    "fig.show()"
   ]
  },
  {
   "cell_type": "code",
   "execution_count": null,
   "id": "4757dce9",
   "metadata": {},
   "outputs": [],
   "source": []
  }
 ],
 "metadata": {
  "kernelspec": {
   "display_name": "Python 3 (ipykernel)",
   "language": "python",
   "name": "python3"
  },
  "language_info": {
   "codemirror_mode": {
    "name": "ipython",
    "version": 3
   },
   "file_extension": ".py",
   "mimetype": "text/x-python",
   "name": "python",
   "nbconvert_exporter": "python",
   "pygments_lexer": "ipython3",
   "version": "3.10.4"
  }
 },
 "nbformat": 4,
 "nbformat_minor": 5
}
